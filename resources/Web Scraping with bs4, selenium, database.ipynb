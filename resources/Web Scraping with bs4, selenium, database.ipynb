{
 "cells": [
  {
   "cell_type": "code",
   "execution_count": 1,
   "metadata": {},
   "outputs": [],
   "source": [
    "import requests\n",
    "from bs4 import BeautifulSoup\n",
    "#import lxml"
   ]
  },
  {
   "cell_type": "code",
   "execution_count": 2,
   "metadata": {},
   "outputs": [
    {
     "data": {
      "text/plain": [
       "<Response [200]>"
      ]
     },
     "execution_count": 2,
     "metadata": {},
     "output_type": "execute_result"
    }
   ],
   "source": [
    "tomato_uri = \"https://www.rottentomatoes.com/\"\n",
    "response = requests.get(tomato_uri)\n",
    "response"
   ]
  },
  {
   "cell_type": "code",
   "execution_count": 3,
   "metadata": {},
   "outputs": [
    {
     "data": {
      "text/plain": [
       "'<!DOCTYPE html>\\n<html lang=\"en\"\\n      dit=\"ltr\"\\n      xmlns:fb=\"http://www.facebook.com/2008/fbml\"\\n      xmlns:og=\"http://opengraphprotocol.org/schema/\">\\n\\n    <head prefix=\"og: http://ogp.me/ns# flixstertomatoes: http://ogp.me/ns/apps/flixstertomatoes#\">\\n\\n        <!-- salt=lay-def-02-juRm -->\\n        <meta http-equiv=\"Content-Type\" content=\"text/html; charset=utf-8\" />\\n        <meta http-equiv=\"x-'"
      ]
     },
     "execution_count": 3,
     "metadata": {},
     "output_type": "execute_result"
    }
   ],
   "source": [
    "html = response.text\n",
    "html[:400]"
   ]
  },
  {
   "cell_type": "code",
   "execution_count": 4,
   "metadata": {
    "scrolled": true
   },
   "outputs": [
    {
     "data": {
      "text/plain": [
       "<table class=\"movie_list\" id=\"Top-Box-Office\">\n",
       "<tr class=\"\">\n",
       "<td class=\"left_col\">\n",
       "<a href=\"/m/how_to_train_your_dragon_the_hidden_world\">\n",
       "<span class=\"icon tiny certified_fresh\"></span>\n",
       "<span class=\"tMeterScore\">92%</span>\n",
       "</a>\n",
       "</td>\n",
       "<td class=\"middle_col\">\n",
       "<a href=\"/m/how_to_train_your_dragon_the_hidden_world\">How to Train Your Dragon: The Hidden World</a>\n",
       "</td>\n",
       "<td class=\"right_col right\">\n",
       "<a href=\"/m/how_to_train_your_dragon_the_hidden_world\">$55M</a>\n",
       "</td>\n",
       "</tr>\n",
       "<tr class=\"\">\n",
       "<td class=\"left_col\">\n",
       "<a href=\"/m/alita_battle_angel\">\n",
       "<span class=\"icon tiny rotten\"></span>\n",
       "<span class=\"tMeterScore\">59%</span>\n",
       "</a>\n",
       "</td>\n",
       "<td class=\"middle_col\">\n",
       "<a href=\"/m/alita_battle_angel\">Alita: Battle Angel</a>\n",
       "</td>\n",
       "<td class=\"right_col right\">\n",
       "<a href=\"/m/alita_battle_angel\">$12.3M</a>\n",
       "</td>\n",
       "</tr>\n",
       "<tr class=\"\">\n",
       "<td class=\"left_col\">\n",
       "<a href=\"/m/the_lego_movie_2_the_second_part\">\n",
       "<span class=\"icon tiny certified_fresh\"></span>\n",
       "<span class=\"tMeterScore\">86%</span>\n",
       "</a>\n",
       "</td>\n",
       "<td class=\"middle_col\">\n",
       "<a href=\"/m/the_lego_movie_2_the_second_part\">The LEGO Movie 2: The Second Part</a>\n",
       "</td>\n",
       "<td class=\"right_col right\">\n",
       "<a href=\"/m/the_lego_movie_2_the_second_part\">$9.8M</a>\n",
       "</td>\n",
       "</tr>\n",
       "<tr class=\"\">\n",
       "<td class=\"left_col\">\n",
       "<a href=\"/m/fighting_with_my_family\">\n",
       "<span class=\"icon tiny certified_fresh\"></span>\n",
       "<span class=\"tMeterScore\">91%</span>\n",
       "</a>\n",
       "</td>\n",
       "<td class=\"middle_col\">\n",
       "<a href=\"/m/fighting_with_my_family\">Fighting with My Family</a>\n",
       "</td>\n",
       "<td class=\"right_col right\">\n",
       "<a href=\"/m/fighting_with_my_family\">$7.8M</a>\n",
       "</td>\n",
       "</tr>\n",
       "<tr class=\"\">\n",
       "<td class=\"left_col\">\n",
       "<a href=\"/m/isnt_it_romantic_2019\">\n",
       "<span class=\"icon tiny fresh\"></span>\n",
       "<span class=\"tMeterScore\">69%</span>\n",
       "</a>\n",
       "</td>\n",
       "<td class=\"middle_col\">\n",
       "<a href=\"/m/isnt_it_romantic_2019\">Isn't It Romantic</a>\n",
       "</td>\n",
       "<td class=\"right_col right\">\n",
       "<a href=\"/m/isnt_it_romantic_2019\">$7.2M</a>\n",
       "</td>\n",
       "</tr>\n",
       "<tr class=\"\">\n",
       "<td class=\"left_col\">\n",
       "<a href=\"/m/what_men_want_2019\">\n",
       "<span class=\"icon tiny rotten\"></span>\n",
       "<span class=\"tMeterScore\">45%</span>\n",
       "</a>\n",
       "</td>\n",
       "<td class=\"middle_col\">\n",
       "<a href=\"/m/what_men_want_2019\">What Men Want</a>\n",
       "</td>\n",
       "<td class=\"right_col right\">\n",
       "<a href=\"/m/what_men_want_2019\">$5.3M</a>\n",
       "</td>\n",
       "</tr>\n",
       "<tr class=\"\">\n",
       "<td class=\"left_col\">\n",
       "<a href=\"/m/happy_death_day_2u\">\n",
       "<span class=\"icon tiny fresh\"></span>\n",
       "<span class=\"tMeterScore\">67%</span>\n",
       "</a>\n",
       "</td>\n",
       "<td class=\"middle_col\">\n",
       "<a href=\"/m/happy_death_day_2u\">Happy Death Day 2U</a>\n",
       "</td>\n",
       "<td class=\"right_col right\">\n",
       "<a href=\"/m/happy_death_day_2u\">$5M</a>\n",
       "</td>\n",
       "</tr>\n",
       "<tr class=\"\">\n",
       "<td class=\"left_col\">\n",
       "<a href=\"/m/cold_pursuit\">\n",
       "<span class=\"icon tiny fresh\"></span>\n",
       "<span class=\"tMeterScore\">70%</span>\n",
       "</a>\n",
       "</td>\n",
       "<td class=\"middle_col\">\n",
       "<a href=\"/m/cold_pursuit\">Cold Pursuit</a>\n",
       "</td>\n",
       "<td class=\"right_col right\">\n",
       "<a href=\"/m/cold_pursuit\">$3.3M</a>\n",
       "</td>\n",
       "</tr>\n",
       "<tr class=\"\">\n",
       "<td class=\"left_col\">\n",
       "<a href=\"/m/the_upside\">\n",
       "<span class=\"icon tiny rotten\"></span>\n",
       "<span class=\"tMeterScore\">40%</span>\n",
       "</a>\n",
       "</td>\n",
       "<td class=\"middle_col\">\n",
       "<a href=\"/m/the_upside\">The Upside</a>\n",
       "</td>\n",
       "<td class=\"right_col right\">\n",
       "<a href=\"/m/the_upside\">$3.1M</a>\n",
       "</td>\n",
       "</tr>\n",
       "<tr class=\"\">\n",
       "<td class=\"left_col\">\n",
       "<a href=\"/m/run_the_race\">\n",
       "<span class=\"icon tiny rotten\"></span>\n",
       "<span class=\"tMeterScore\">38%</span>\n",
       "</a>\n",
       "</td>\n",
       "<td class=\"middle_col\">\n",
       "<a href=\"/m/run_the_race\">Run the Race</a>\n",
       "</td>\n",
       "<td class=\"right_col right\">\n",
       "<a href=\"/m/run_the_race\">$2.3M</a>\n",
       "</td>\n",
       "</tr>\n",
       "</table>"
      ]
     },
     "execution_count": 4,
     "metadata": {},
     "output_type": "execute_result"
    }
   ],
   "source": [
    "soup = BeautifulSoup(html, \"html.parser\") # \"lxml\"\n",
    "table = soup.find(\"table\", attrs={\"id\":\"Top-Box-Office\"})\n",
    "table"
   ]
  },
  {
   "cell_type": "code",
   "execution_count": 5,
   "metadata": {},
   "outputs": [
    {
     "data": {
      "text/plain": [
       "10"
      ]
     },
     "execution_count": 5,
     "metadata": {},
     "output_type": "execute_result"
    }
   ],
   "source": [
    "all_tr = table.find_all(\"tr\")\n",
    "len(all_tr)"
   ]
  },
  {
   "cell_type": "code",
   "execution_count": 6,
   "metadata": {},
   "outputs": [
    {
     "data": {
      "text/plain": [
       "[<td class=\"left_col\">\n",
       " <a href=\"/m/how_to_train_your_dragon_the_hidden_world\">\n",
       " <span class=\"icon tiny certified_fresh\"></span>\n",
       " <span class=\"tMeterScore\">92%</span>\n",
       " </a>\n",
       " </td>, <td class=\"middle_col\">\n",
       " <a href=\"/m/how_to_train_your_dragon_the_hidden_world\">How to Train Your Dragon: The Hidden World</a>\n",
       " </td>, <td class=\"right_col right\">\n",
       " <a href=\"/m/how_to_train_your_dragon_the_hidden_world\">$55M</a>\n",
       " </td>]"
      ]
     },
     "execution_count": 6,
     "metadata": {},
     "output_type": "execute_result"
    }
   ],
   "source": [
    "all_td = all_tr[0].find_all(\"td\")\n",
    "all_td"
   ]
  },
  {
   "cell_type": "code",
   "execution_count": 10,
   "metadata": {},
   "outputs": [
    {
     "data": {
      "text/plain": [
       "92"
      ]
     },
     "execution_count": 10,
     "metadata": {},
     "output_type": "execute_result"
    }
   ],
   "source": [
    "int(all_td[0].find(\"span\", attrs={\"class\":\"tMeterScore\"}).text.replace(\"%\",\"\"))"
   ]
  },
  {
   "cell_type": "code",
   "execution_count": 15,
   "metadata": {},
   "outputs": [
    {
     "data": {
      "text/plain": [
       "'/m/how_to_train_your_dragon_the_hidden_world'"
      ]
     },
     "execution_count": 15,
     "metadata": {},
     "output_type": "execute_result"
    }
   ],
   "source": [
    "all_td[1].a[\"href\"] #all_td[1].find(\"a\")[\"href\"]"
   ]
  },
  {
   "cell_type": "code",
   "execution_count": 16,
   "metadata": {},
   "outputs": [
    {
     "data": {
      "text/plain": [
       "'How to Train Your Dragon: The Hidden World'"
      ]
     },
     "execution_count": 16,
     "metadata": {},
     "output_type": "execute_result"
    }
   ],
   "source": [
    "all_td[1].a.text"
   ]
  },
  {
   "cell_type": "code",
   "execution_count": 21,
   "metadata": {},
   "outputs": [
    {
     "data": {
      "text/plain": [
       "55000000"
      ]
     },
     "execution_count": 21,
     "metadata": {},
     "output_type": "execute_result"
    }
   ],
   "source": [
    "int(all_td[2].a.text.replace(\"$\",\"\").replace(\"M\",\"000000\"))"
   ]
  },
  {
   "cell_type": "code",
   "execution_count": 28,
   "metadata": {},
   "outputs": [
    {
     "name": "stdout",
     "output_type": "stream",
     "text": [
      "92\n",
      "https://www.rottentomatoes.com/m/how_to_train_your_dragon_the_hidden_world\n",
      "How to Train Your Dragon: The Hidden World\n",
      "55000000.0\n",
      "\n",
      "59\n",
      "https://www.rottentomatoes.com/m/alita_battle_angel\n",
      "Alita: Battle Angel\n",
      "12300000.0\n",
      "\n",
      "86\n",
      "https://www.rottentomatoes.com/m/the_lego_movie_2_the_second_part\n",
      "The LEGO Movie 2: The Second Part\n",
      "9800000.0\n",
      "\n",
      "91\n",
      "https://www.rottentomatoes.com/m/fighting_with_my_family\n",
      "Fighting with My Family\n",
      "7800000.0\n",
      "\n",
      "69\n",
      "https://www.rottentomatoes.com/m/isnt_it_romantic_2019\n",
      "Isn't It Romantic\n",
      "7200000.0\n",
      "\n",
      "45\n",
      "https://www.rottentomatoes.com/m/what_men_want_2019\n",
      "What Men Want\n",
      "5300000.0\n",
      "\n",
      "67\n",
      "https://www.rottentomatoes.com/m/happy_death_day_2u\n",
      "Happy Death Day 2U\n",
      "5000000.0\n",
      "\n",
      "70\n",
      "https://www.rottentomatoes.com/m/cold_pursuit\n",
      "Cold Pursuit\n",
      "3300000.0\n",
      "\n",
      "40\n",
      "https://www.rottentomatoes.com/m/the_upside\n",
      "The Upside\n",
      "3100000.0\n",
      "\n",
      "38\n",
      "https://www.rottentomatoes.com/m/run_the_race\n",
      "Run the Race\n",
      "2300000.0\n",
      "\n"
     ]
    }
   ],
   "source": [
    "for tr in all_tr:\n",
    "    all_td = tr.find_all(\"td\")\n",
    "    score = int(all_td[0].find(\"span\", attrs={\"class\":\"tMeterScore\"}).text.replace(\"%\",\"\"))\n",
    "    link = tomato_uri + all_td[1].a[\"href\"][1:]\n",
    "    title = all_td[1].a.text\n",
    "    revenue = float(all_td[2].a.text.replace(\"$\",\"\").replace(\"M\",\"\")) * 1000000\n",
    "    print(score,link,title,revenue, sep=\"\\n\", end=\"\\n\\n\")"
   ]
  },
  {
   "cell_type": "markdown",
   "metadata": {},
   "source": [
    "## Selenium"
   ]
  },
  {
   "cell_type": "code",
   "execution_count": 51,
   "metadata": {},
   "outputs": [],
   "source": [
    "from selenium import webdriver\n",
    "from selenium.webdriver.chrome.options import Options\n",
    "\n",
    "\n",
    "# 일반적인 시작법\n",
    "#ch_driver = webdriver.Chrome(webdriver_path)\n",
    "\n",
    "# 사람처럼 보이는 시작법\n",
    "chrome_options = Options()\n",
    "chrome_options.add_argument(\"User-Agent=Mozilla/5.0 (Macintosh; Intel Mac OS X 10_14_3) AppleWebKit/537.36 (KHTML, like Gecko) Chrome/71.0.3578.98 Safari/537.36\")\n",
    "\n",
    "webdriver_path = \"/Users/ulgoon/Documents/dev/chromedriver\"\n",
    "ch_driver = webdriver.Chrome(webdriver_path, chrome_options=chrome_options)"
   ]
  },
  {
   "cell_type": "code",
   "execution_count": 50,
   "metadata": {},
   "outputs": [],
   "source": [
    "ch_driver.close()"
   ]
  },
  {
   "cell_type": "code",
   "execution_count": 52,
   "metadata": {},
   "outputs": [],
   "source": [
    "ch_driver.get(\"https://www.google.com/\")"
   ]
  },
  {
   "cell_type": "code",
   "execution_count": 53,
   "metadata": {},
   "outputs": [],
   "source": [
    "ch_driver.get(\"https://www.naver.com/\")"
   ]
  },
  {
   "cell_type": "code",
   "execution_count": 59,
   "metadata": {},
   "outputs": [],
   "source": [
    "# PeaceNation List Scraping\n",
    "ch_driver.get(\"https://cafe.naver.com/joonggonara\")"
   ]
  },
  {
   "cell_type": "code",
   "execution_count": 60,
   "metadata": {},
   "outputs": [],
   "source": [
    "input_id = \"topLayerQueryInput\"\n",
    "input_area = ch_driver.find_element_by_id(input_id)"
   ]
  },
  {
   "cell_type": "code",
   "execution_count": 61,
   "metadata": {},
   "outputs": [],
   "source": [
    "query = \"아이패드\"\n",
    "input_area.send_keys(query)"
   ]
  },
  {
   "cell_type": "code",
   "execution_count": 57,
   "metadata": {},
   "outputs": [],
   "source": [
    "# method1 엔터키 넘겨서 화면 전환\n",
    "from selenium.webdriver.common.keys import Keys\n",
    "input_id.send_keys(Keys.RETURN)"
   ]
  },
  {
   "cell_type": "code",
   "execution_count": 58,
   "metadata": {},
   "outputs": [],
   "source": [
    "# method2 검색버튼 클릭하기\n",
    "search_button_xpath = '//*[@id=\"cafe-search\"]/form/button'\n",
    "ch_driver.find_element_by_xpath(search_button_xpath).click()"
   ]
  },
  {
   "cell_type": "code",
   "execution_count": 62,
   "metadata": {},
   "outputs": [],
   "source": [
    "# method3 js 실행하기\n",
    "ch_driver.execute_script(\"searchBoard();\")"
   ]
  },
  {
   "cell_type": "code",
   "execution_count": 63,
   "metadata": {},
   "outputs": [
    {
     "ename": "NoSuchElementException",
     "evalue": "Message: no such element: Unable to locate element: {\"method\":\"class name\",\"selector\":\"result-board\"}\n  (Session info: chrome=72.0.3626.119)\n  (Driver info: chromedriver=2.37.544337 (8c0344a12e552148c185f7d5117db1f28d6c9e85),platform=Mac OS X 10.14.3 x86_64)\n",
     "output_type": "error",
     "traceback": [
      "\u001b[0;31m---------------------------------------------------------------------------\u001b[0m",
      "\u001b[0;31mNoSuchElementException\u001b[0m                    Traceback (most recent call last)",
      "\u001b[0;32m<ipython-input-63-d97a5a06c7ee>\u001b[0m in \u001b[0;36m<module>\u001b[0;34m()\u001b[0m\n\u001b[0;32m----> 1\u001b[0;31m \u001b[0mch_driver\u001b[0m\u001b[0;34m.\u001b[0m\u001b[0mfind_element_by_class_name\u001b[0m\u001b[0;34m(\u001b[0m\u001b[0;34m\"result-board\"\u001b[0m\u001b[0;34m)\u001b[0m\u001b[0;34m\u001b[0m\u001b[0m\n\u001b[0m",
      "\u001b[0;32m~/.pyenv/versions/3.7.0/envs/css2018/lib/python3.7/site-packages/selenium/webdriver/remote/webdriver.py\u001b[0m in \u001b[0;36mfind_element_by_class_name\u001b[0;34m(self, name)\u001b[0m\n\u001b[1;32m    561\u001b[0m             \u001b[0melement\u001b[0m \u001b[0;34m=\u001b[0m \u001b[0mdriver\u001b[0m\u001b[0;34m.\u001b[0m\u001b[0mfind_element_by_class_name\u001b[0m\u001b[0;34m(\u001b[0m\u001b[0;34m'foo'\u001b[0m\u001b[0;34m)\u001b[0m\u001b[0;34m\u001b[0m\u001b[0m\n\u001b[1;32m    562\u001b[0m         \"\"\"\n\u001b[0;32m--> 563\u001b[0;31m         \u001b[0;32mreturn\u001b[0m \u001b[0mself\u001b[0m\u001b[0;34m.\u001b[0m\u001b[0mfind_element\u001b[0m\u001b[0;34m(\u001b[0m\u001b[0mby\u001b[0m\u001b[0;34m=\u001b[0m\u001b[0mBy\u001b[0m\u001b[0;34m.\u001b[0m\u001b[0mCLASS_NAME\u001b[0m\u001b[0;34m,\u001b[0m \u001b[0mvalue\u001b[0m\u001b[0;34m=\u001b[0m\u001b[0mname\u001b[0m\u001b[0;34m)\u001b[0m\u001b[0;34m\u001b[0m\u001b[0m\n\u001b[0m\u001b[1;32m    564\u001b[0m \u001b[0;34m\u001b[0m\u001b[0m\n\u001b[1;32m    565\u001b[0m     \u001b[0;32mdef\u001b[0m \u001b[0mfind_elements_by_class_name\u001b[0m\u001b[0;34m(\u001b[0m\u001b[0mself\u001b[0m\u001b[0;34m,\u001b[0m \u001b[0mname\u001b[0m\u001b[0;34m)\u001b[0m\u001b[0;34m:\u001b[0m\u001b[0;34m\u001b[0m\u001b[0m\n",
      "\u001b[0;32m~/.pyenv/versions/3.7.0/envs/css2018/lib/python3.7/site-packages/selenium/webdriver/remote/webdriver.py\u001b[0m in \u001b[0;36mfind_element\u001b[0;34m(self, by, value)\u001b[0m\n\u001b[1;32m    964\u001b[0m         return self.execute(Command.FIND_ELEMENT, {\n\u001b[1;32m    965\u001b[0m             \u001b[0;34m'using'\u001b[0m\u001b[0;34m:\u001b[0m \u001b[0mby\u001b[0m\u001b[0;34m,\u001b[0m\u001b[0;34m\u001b[0m\u001b[0m\n\u001b[0;32m--> 966\u001b[0;31m             'value': value})['value']\n\u001b[0m\u001b[1;32m    967\u001b[0m \u001b[0;34m\u001b[0m\u001b[0m\n\u001b[1;32m    968\u001b[0m     \u001b[0;32mdef\u001b[0m \u001b[0mfind_elements\u001b[0m\u001b[0;34m(\u001b[0m\u001b[0mself\u001b[0m\u001b[0;34m,\u001b[0m \u001b[0mby\u001b[0m\u001b[0;34m=\u001b[0m\u001b[0mBy\u001b[0m\u001b[0;34m.\u001b[0m\u001b[0mID\u001b[0m\u001b[0;34m,\u001b[0m \u001b[0mvalue\u001b[0m\u001b[0;34m=\u001b[0m\u001b[0;32mNone\u001b[0m\u001b[0;34m)\u001b[0m\u001b[0;34m:\u001b[0m\u001b[0;34m\u001b[0m\u001b[0m\n",
      "\u001b[0;32m~/.pyenv/versions/3.7.0/envs/css2018/lib/python3.7/site-packages/selenium/webdriver/remote/webdriver.py\u001b[0m in \u001b[0;36mexecute\u001b[0;34m(self, driver_command, params)\u001b[0m\n\u001b[1;32m    318\u001b[0m         \u001b[0mresponse\u001b[0m \u001b[0;34m=\u001b[0m \u001b[0mself\u001b[0m\u001b[0;34m.\u001b[0m\u001b[0mcommand_executor\u001b[0m\u001b[0;34m.\u001b[0m\u001b[0mexecute\u001b[0m\u001b[0;34m(\u001b[0m\u001b[0mdriver_command\u001b[0m\u001b[0;34m,\u001b[0m \u001b[0mparams\u001b[0m\u001b[0;34m)\u001b[0m\u001b[0;34m\u001b[0m\u001b[0m\n\u001b[1;32m    319\u001b[0m         \u001b[0;32mif\u001b[0m \u001b[0mresponse\u001b[0m\u001b[0;34m:\u001b[0m\u001b[0;34m\u001b[0m\u001b[0m\n\u001b[0;32m--> 320\u001b[0;31m             \u001b[0mself\u001b[0m\u001b[0;34m.\u001b[0m\u001b[0merror_handler\u001b[0m\u001b[0;34m.\u001b[0m\u001b[0mcheck_response\u001b[0m\u001b[0;34m(\u001b[0m\u001b[0mresponse\u001b[0m\u001b[0;34m)\u001b[0m\u001b[0;34m\u001b[0m\u001b[0m\n\u001b[0m\u001b[1;32m    321\u001b[0m             response['value'] = self._unwrap_value(\n\u001b[1;32m    322\u001b[0m                 response.get('value', None))\n",
      "\u001b[0;32m~/.pyenv/versions/3.7.0/envs/css2018/lib/python3.7/site-packages/selenium/webdriver/remote/errorhandler.py\u001b[0m in \u001b[0;36mcheck_response\u001b[0;34m(self, response)\u001b[0m\n\u001b[1;32m    240\u001b[0m                 \u001b[0malert_text\u001b[0m \u001b[0;34m=\u001b[0m \u001b[0mvalue\u001b[0m\u001b[0;34m[\u001b[0m\u001b[0;34m'alert'\u001b[0m\u001b[0;34m]\u001b[0m\u001b[0;34m.\u001b[0m\u001b[0mget\u001b[0m\u001b[0;34m(\u001b[0m\u001b[0;34m'text'\u001b[0m\u001b[0;34m)\u001b[0m\u001b[0;34m\u001b[0m\u001b[0m\n\u001b[1;32m    241\u001b[0m             \u001b[0;32mraise\u001b[0m \u001b[0mexception_class\u001b[0m\u001b[0;34m(\u001b[0m\u001b[0mmessage\u001b[0m\u001b[0;34m,\u001b[0m \u001b[0mscreen\u001b[0m\u001b[0;34m,\u001b[0m \u001b[0mstacktrace\u001b[0m\u001b[0;34m,\u001b[0m \u001b[0malert_text\u001b[0m\u001b[0;34m)\u001b[0m\u001b[0;34m\u001b[0m\u001b[0m\n\u001b[0;32m--> 242\u001b[0;31m         \u001b[0;32mraise\u001b[0m \u001b[0mexception_class\u001b[0m\u001b[0;34m(\u001b[0m\u001b[0mmessage\u001b[0m\u001b[0;34m,\u001b[0m \u001b[0mscreen\u001b[0m\u001b[0;34m,\u001b[0m \u001b[0mstacktrace\u001b[0m\u001b[0;34m)\u001b[0m\u001b[0;34m\u001b[0m\u001b[0m\n\u001b[0m\u001b[1;32m    243\u001b[0m \u001b[0;34m\u001b[0m\u001b[0m\n\u001b[1;32m    244\u001b[0m     \u001b[0;32mdef\u001b[0m \u001b[0m_value_or_default\u001b[0m\u001b[0;34m(\u001b[0m\u001b[0mself\u001b[0m\u001b[0;34m,\u001b[0m \u001b[0mobj\u001b[0m\u001b[0;34m,\u001b[0m \u001b[0mkey\u001b[0m\u001b[0;34m,\u001b[0m \u001b[0mdefault\u001b[0m\u001b[0;34m)\u001b[0m\u001b[0;34m:\u001b[0m\u001b[0;34m\u001b[0m\u001b[0m\n",
      "\u001b[0;31mNoSuchElementException\u001b[0m: Message: no such element: Unable to locate element: {\"method\":\"class name\",\"selector\":\"result-board\"}\n  (Session info: chrome=72.0.3626.119)\n  (Driver info: chromedriver=2.37.544337 (8c0344a12e552148c185f7d5117db1f28d6c9e85),platform=Mac OS X 10.14.3 x86_64)\n"
     ]
    }
   ],
   "source": [
    "ch_driver.find_element_by_class_name(\"result-board\")"
   ]
  },
  {
   "cell_type": "code",
   "execution_count": 66,
   "metadata": {},
   "outputs": [],
   "source": [
    "result_frame = ch_driver.find_element_by_id(\"cafe_main\")\n",
    "ch_driver.switch_to.frame(result_frame)"
   ]
  },
  {
   "cell_type": "code",
   "execution_count": 87,
   "metadata": {},
   "outputs": [
    {
     "name": "stdout",
     "output_type": "stream",
     "text": [
      "[공식앱][초s급 아이패드프로10.5 256 wifi 실버 + 펜][500,000원],카톡사기주의요망 xng89\n",
      "아이패드 6세대 128기가 팝니다. 펜슬포함\n",
      "아이패드 A1395 16기가 택포 10만원에 팝니다.\n",
      "[미개봉/공식스토어 구매 제품] 아이패드프로 11형 팝니다\n",
      "아이패드 프로 2세대 10.5인치 256기가 로즈골드+애플팬슬 판매 합니다\n",
      "대구 아이패드프로 10.5 골드 셀룰러 256\n",
      "서울)아이패드프로 12.9 128G\n",
      "아이패드 프로 2세대 10.5인치 64G wifi\n",
      "아이패드 프로 3세대 12.9인치 256gb wifi + 애플 정품 커버 케이스 분양해요~ (둘다 미개봉)\n",
      "ps4 리모트용 아이패드 판매합니다\n",
      "아이패드 2017 5세대 셀룰러 와이파이 32g 스페이스 그레이 s급 판매합니다.\n",
      "아이패드프로3 11인치 64기가 와이파이 실버 미개봉\n",
      "천안 아이패드프로3세대 11인치256G스그,샐롤러,와이파이 A1934 미개봉 저렴히105만원에팝니다!\n",
      "[1]\n",
      "뉴 아이패드 6세대 128GB 실버 미개봉 신제품 판매합니다.\n",
      "아이패드 11인치 64g wi-fi + 애플펜슬 2세대 + 정품팁\n",
      "[1]\n"
     ]
    }
   ],
   "source": [
    "for item in ch_driver.find_elements_by_xpath('//*[@id=\"main-area\"]/div[5]/table/tbody/tr/td[1]/div[2]/div/a'):\n",
    "    print(item.text)"
   ]
  },
  {
   "cell_type": "code",
   "execution_count": 88,
   "metadata": {},
   "outputs": [],
   "source": [
    "ch_driver.close()"
   ]
  },
  {
   "cell_type": "code",
   "execution_count": null,
   "metadata": {},
   "outputs": [],
   "source": [
    "ch_driver.page_source # => 페이지 소스 스트링으로 받은 뒤 BS 시작"
   ]
  },
  {
   "cell_type": "markdown",
   "metadata": {},
   "source": [
    "## Database"
   ]
  },
  {
   "cell_type": "code",
   "execution_count": 92,
   "metadata": {},
   "outputs": [],
   "source": [
    "import sqlite3 as lite\n",
    "import pandas as pd"
   ]
  },
  {
   "cell_type": "code",
   "execution_count": 93,
   "metadata": {},
   "outputs": [],
   "source": [
    "db = lite.connect(\"./products.db\")"
   ]
  },
  {
   "cell_type": "code",
   "execution_count": 95,
   "metadata": {},
   "outputs": [
    {
     "data": {
      "text/html": [
       "<div>\n",
       "<style scoped>\n",
       "    .dataframe tbody tr th:only-of-type {\n",
       "        vertical-align: middle;\n",
       "    }\n",
       "\n",
       "    .dataframe tbody tr th {\n",
       "        vertical-align: top;\n",
       "    }\n",
       "\n",
       "    .dataframe thead th {\n",
       "        text-align: right;\n",
       "    }\n",
       "</style>\n",
       "<table border=\"1\" class=\"dataframe\">\n",
       "  <thead>\n",
       "    <tr style=\"text-align: right;\">\n",
       "      <th></th>\n",
       "      <th>OrderID</th>\n",
       "      <th>CustomerID</th>\n",
       "      <th>EmployeeID</th>\n",
       "      <th>OrderDate</th>\n",
       "      <th>ShipperID</th>\n",
       "    </tr>\n",
       "  </thead>\n",
       "  <tbody>\n",
       "    <tr>\n",
       "      <th>0</th>\n",
       "      <td>10248</td>\n",
       "      <td>90</td>\n",
       "      <td>5</td>\n",
       "      <td>1996-07-04</td>\n",
       "      <td>3</td>\n",
       "    </tr>\n",
       "    <tr>\n",
       "      <th>1</th>\n",
       "      <td>10249</td>\n",
       "      <td>81</td>\n",
       "      <td>6</td>\n",
       "      <td>1996-07-05</td>\n",
       "      <td>1</td>\n",
       "    </tr>\n",
       "    <tr>\n",
       "      <th>2</th>\n",
       "      <td>10250</td>\n",
       "      <td>34</td>\n",
       "      <td>4</td>\n",
       "      <td>1996-07-08</td>\n",
       "      <td>2</td>\n",
       "    </tr>\n",
       "    <tr>\n",
       "      <th>3</th>\n",
       "      <td>10251</td>\n",
       "      <td>84</td>\n",
       "      <td>3</td>\n",
       "      <td>1996-07-08</td>\n",
       "      <td>1</td>\n",
       "    </tr>\n",
       "    <tr>\n",
       "      <th>4</th>\n",
       "      <td>10252</td>\n",
       "      <td>76</td>\n",
       "      <td>4</td>\n",
       "      <td>1996-07-09</td>\n",
       "      <td>2</td>\n",
       "    </tr>\n",
       "  </tbody>\n",
       "</table>\n",
       "</div>"
      ],
      "text/plain": [
       "   OrderID  CustomerID  EmployeeID   OrderDate  ShipperID\n",
       "0    10248          90           5  1996-07-04          3\n",
       "1    10249          81           6  1996-07-05          1\n",
       "2    10250          34           4  1996-07-08          2\n",
       "3    10251          84           3  1996-07-08          1\n",
       "4    10252          76           4  1996-07-09          2"
      ]
     },
     "execution_count": 95,
     "metadata": {},
     "output_type": "execute_result"
    }
   ],
   "source": [
    "query = \"\"\"\n",
    "SELECT *\n",
    "FROM\n",
    "    Orders\n",
    ";\n",
    "\"\"\"\n",
    "\n",
    "pd.read_sql(query, db).head()"
   ]
  },
  {
   "cell_type": "code",
   "execution_count": 97,
   "metadata": {},
   "outputs": [
    {
     "data": {
      "text/html": [
       "<div>\n",
       "<style scoped>\n",
       "    .dataframe tbody tr th:only-of-type {\n",
       "        vertical-align: middle;\n",
       "    }\n",
       "\n",
       "    .dataframe tbody tr th {\n",
       "        vertical-align: top;\n",
       "    }\n",
       "\n",
       "    .dataframe thead th {\n",
       "        text-align: right;\n",
       "    }\n",
       "</style>\n",
       "<table border=\"1\" class=\"dataframe\">\n",
       "  <thead>\n",
       "    <tr style=\"text-align: right;\">\n",
       "      <th></th>\n",
       "      <th>OrderDetailID</th>\n",
       "      <th>OrderID</th>\n",
       "      <th>ProductID</th>\n",
       "      <th>Quantity</th>\n",
       "    </tr>\n",
       "  </thead>\n",
       "  <tbody>\n",
       "    <tr>\n",
       "      <th>0</th>\n",
       "      <td>1</td>\n",
       "      <td>10248</td>\n",
       "      <td>11</td>\n",
       "      <td>12</td>\n",
       "    </tr>\n",
       "    <tr>\n",
       "      <th>1</th>\n",
       "      <td>2</td>\n",
       "      <td>10248</td>\n",
       "      <td>42</td>\n",
       "      <td>10</td>\n",
       "    </tr>\n",
       "    <tr>\n",
       "      <th>2</th>\n",
       "      <td>3</td>\n",
       "      <td>10248</td>\n",
       "      <td>72</td>\n",
       "      <td>5</td>\n",
       "    </tr>\n",
       "    <tr>\n",
       "      <th>3</th>\n",
       "      <td>4</td>\n",
       "      <td>10249</td>\n",
       "      <td>14</td>\n",
       "      <td>9</td>\n",
       "    </tr>\n",
       "    <tr>\n",
       "      <th>4</th>\n",
       "      <td>5</td>\n",
       "      <td>10249</td>\n",
       "      <td>51</td>\n",
       "      <td>40</td>\n",
       "    </tr>\n",
       "  </tbody>\n",
       "</table>\n",
       "</div>"
      ],
      "text/plain": [
       "   OrderDetailID  OrderID  ProductID  Quantity\n",
       "0              1    10248         11        12\n",
       "1              2    10248         42        10\n",
       "2              3    10248         72         5\n",
       "3              4    10249         14         9\n",
       "4              5    10249         51        40"
      ]
     },
     "execution_count": 97,
     "metadata": {},
     "output_type": "execute_result"
    }
   ],
   "source": [
    "query = \"\"\"\n",
    "SELECT *\n",
    "FROM\n",
    "    OrderDetails\n",
    ";\n",
    "\"\"\"\n",
    "pd.read_sql(query, db).head()"
   ]
  },
  {
   "cell_type": "code",
   "execution_count": 109,
   "metadata": {},
   "outputs": [
    {
     "data": {
      "text/html": [
       "<div>\n",
       "<style scoped>\n",
       "    .dataframe tbody tr th:only-of-type {\n",
       "        vertical-align: middle;\n",
       "    }\n",
       "\n",
       "    .dataframe tbody tr th {\n",
       "        vertical-align: top;\n",
       "    }\n",
       "\n",
       "    .dataframe thead th {\n",
       "        text-align: right;\n",
       "    }\n",
       "</style>\n",
       "<table border=\"1\" class=\"dataframe\">\n",
       "  <thead>\n",
       "    <tr style=\"text-align: right;\">\n",
       "      <th></th>\n",
       "      <th>COUNT</th>\n",
       "      <th>sum(O.OrderID)</th>\n",
       "      <th>avg(O.OrderID)</th>\n",
       "    </tr>\n",
       "  </thead>\n",
       "  <tbody>\n",
       "    <tr>\n",
       "      <th>0</th>\n",
       "      <td>263</td>\n",
       "      <td>2722130</td>\n",
       "      <td>10350.304183</td>\n",
       "    </tr>\n",
       "  </tbody>\n",
       "</table>\n",
       "</div>"
      ],
      "text/plain": [
       "   COUNT  sum(O.OrderID)  avg(O.OrderID)\n",
       "0    263         2722130    10350.304183"
      ]
     },
     "execution_count": 109,
     "metadata": {},
     "output_type": "execute_result"
    }
   ],
   "source": [
    "# O.OrderID, D.OrderDetailID, O.OrderDate, D.ProductID\n",
    "query = \"\"\"\n",
    "SELECT count(*) \"COUNT\", sum(O.OrderID), avg(O.OrderID)\n",
    "FROM\n",
    "    (Orders O\n",
    "    JOIN\n",
    "        OrderDetails D\n",
    "        ON\n",
    "            O.OrderID = D.OrderID\n",
    "    )\n",
    "    WHERE\n",
    "        O.OrderID > 10300\n",
    "        AND`\n",
    "        O.OrderID < 10400\n",
    "    ORDER BY O.OrderID\n",
    ";\n",
    "\"\"\"\n",
    "pd.read_sql(query, db)"
   ]
  },
  {
   "cell_type": "code",
   "execution_count": null,
   "metadata": {},
   "outputs": [],
   "source": []
  },
  {
   "cell_type": "code",
   "execution_count": null,
   "metadata": {},
   "outputs": [],
   "source": []
  },
  {
   "cell_type": "code",
   "execution_count": null,
   "metadata": {},
   "outputs": [],
   "source": []
  },
  {
   "cell_type": "code",
   "execution_count": null,
   "metadata": {},
   "outputs": [],
   "source": []
  },
  {
   "cell_type": "code",
   "execution_count": null,
   "metadata": {},
   "outputs": [],
   "source": []
  },
  {
   "cell_type": "code",
   "execution_count": null,
   "metadata": {},
   "outputs": [],
   "source": []
  }
 ],
 "metadata": {
  "kernelspec": {
   "display_name": "Python 3",
   "language": "python",
   "name": "python3"
  },
  "language_info": {
   "codemirror_mode": {
    "name": "ipython",
    "version": 3
   },
   "file_extension": ".py",
   "mimetype": "text/x-python",
   "name": "python",
   "nbconvert_exporter": "python",
   "pygments_lexer": "ipython3",
   "version": "3.7.0"
  }
 },
 "nbformat": 4,
 "nbformat_minor": 2
}
