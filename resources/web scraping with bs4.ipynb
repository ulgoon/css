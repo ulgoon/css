{
 "cells": [
  {
   "cell_type": "code",
   "execution_count": 1,
   "metadata": {},
   "outputs": [],
   "source": [
    "import requests\n",
    "from bs4 import BeautifulSoup"
   ]
  },
  {
   "cell_type": "code",
   "execution_count": 4,
   "metadata": {},
   "outputs": [],
   "source": [
    "response = requests.get('https://www.google.com')"
   ]
  },
  {
   "cell_type": "code",
   "execution_count": 5,
   "metadata": {},
   "outputs": [
    {
     "data": {
      "text/plain": [
       "{'Date': 'Tue, 21 Aug 2018 07:20:15 GMT', 'Expires': '-1', 'Cache-Control': 'private, max-age=0', 'Content-Type': 'text/html; charset=ISO-8859-1', 'P3P': 'CP=\"This is not a P3P policy! See g.co/p3phelp for more info.\"', 'Content-Encoding': 'gzip', 'Server': 'gws', 'X-XSS-Protection': '1; mode=block', 'X-Frame-Options': 'SAMEORIGIN', 'Set-Cookie': '1P_JAR=2018-08-21-07; expires=Thu, 20-Sep-2018 07:20:15 GMT; path=/; domain=.google.com, NID=137=Jo02uzO3u1Ij9xgOUhyI_u0QRU7us8wcH5dbgEjqUjWdGXNa4G6Dbx88cgDFeKrA8yljuCsr9EZxk8_bnL311Bct95N4K-1ONm5Bo3jQs7XM9rff6qfkapF9RtSGwcUX; expires=Wed, 20-Feb-2019 07:20:15 GMT; path=/; domain=.google.com; HttpOnly', 'Alt-Svc': 'quic=\":443\"; ma=2592000; v=\"44,43,39,35\"', 'Transfer-Encoding': 'chunked'}"
      ]
     },
     "execution_count": 5,
     "metadata": {},
     "output_type": "execute_result"
    }
   ],
   "source": [
    "response.headers"
   ]
  },
  {
   "cell_type": "code",
   "execution_count": null,
   "metadata": {},
   "outputs": [],
   "source": [
    "response.text"
   ]
  },
  {
   "cell_type": "code",
   "execution_count": null,
   "metadata": {},
   "outputs": [],
   "source": [
    "response = requests.get('https://www.naver.com')\n",
    "html = response.text\n",
    "html"
   ]
  },
  {
   "cell_type": "code",
   "execution_count": 8,
   "metadata": {},
   "outputs": [
    {
     "data": {
      "text/plain": [
       "<ul class=\"ah_l\">\n",
       "<li class=\"ah_item\">\n",
       "<a class=\"ah_a\" data-clk=\"lve.keyword\" href=\"#\">\n",
       "<span class=\"ah_r\">1</span>\n",
       "<span class=\"ah_k\">붐붐파워</span>\n",
       "</a>\n",
       "</li>\n",
       "<li class=\"ah_item\">\n",
       "<a class=\"ah_a\" data-clk=\"lve.keyword\" href=\"#\">\n",
       "<span class=\"ah_r\">2</span>\n",
       "<span class=\"ah_k\">이하늘</span>\n",
       "</a>\n",
       "</li>\n",
       "<li class=\"ah_item\">\n",
       "<a class=\"ah_a\" data-clk=\"lve.keyword\" href=\"#\">\n",
       "<span class=\"ah_r\">3</span>\n",
       "<span class=\"ah_k\">이하늘 신지</span>\n",
       "</a>\n",
       "</li>\n",
       "<li class=\"ah_item\">\n",
       "<a class=\"ah_a\" data-clk=\"lve.keyword\" href=\"#\">\n",
       "<span class=\"ah_r\">4</span>\n",
       "<span class=\"ah_k\">황희찬 사포</span>\n",
       "</a>\n",
       "</li>\n",
       "<li class=\"ah_item\">\n",
       "<a class=\"ah_a\" data-clk=\"lve.keyword\" href=\"#\">\n",
       "<span class=\"ah_r\">5</span>\n",
       "<span class=\"ah_k\">노라조</span>\n",
       "</a>\n",
       "</li>\n",
       "<li class=\"ah_item\">\n",
       "<a class=\"ah_a\" data-clk=\"lve.keyword\" href=\"#\">\n",
       "<span class=\"ah_r\">6</span>\n",
       "<span class=\"ah_k\">양한나</span>\n",
       "</a>\n",
       "</li>\n",
       "<li class=\"ah_item\">\n",
       "<a class=\"ah_a\" data-clk=\"lve.keyword\" href=\"#\">\n",
       "<span class=\"ah_r\">7</span>\n",
       "<span class=\"ah_k\">이혁</span>\n",
       "</a>\n",
       "</li>\n",
       "<li class=\"ah_item\">\n",
       "<a class=\"ah_a\" data-clk=\"lve.keyword\" href=\"#\">\n",
       "<span class=\"ah_r\">8</span>\n",
       "<span class=\"ah_k\">엽총</span>\n",
       "</a>\n",
       "</li>\n",
       "<li class=\"ah_item\">\n",
       "<a class=\"ah_a\" data-clk=\"lve.keyword\" href=\"#\">\n",
       "<span class=\"ah_r\">9</span>\n",
       "<span class=\"ah_k\">신정환</span>\n",
       "</a>\n",
       "</li>\n",
       "<li class=\"ah_item\">\n",
       "<a class=\"ah_a\" data-clk=\"lve.keyword\" href=\"#\">\n",
       "<span class=\"ah_r\">10</span>\n",
       "<span class=\"ah_k\">신지</span>\n",
       "</a>\n",
       "</li>\n",
       "<li class=\"ah_item\">\n",
       "<a class=\"ah_a\" data-clk=\"lve.keyword\" href=\"#\">\n",
       "<span class=\"ah_r\">11</span>\n",
       "<span class=\"ah_k\">태풍경로</span>\n",
       "</a>\n",
       "</li>\n",
       "<li class=\"ah_item\">\n",
       "<a class=\"ah_a\" data-clk=\"lve.keyword\" href=\"#\">\n",
       "<span class=\"ah_r\">12</span>\n",
       "<span class=\"ah_k\">황희찬</span>\n",
       "</a>\n",
       "</li>\n",
       "<li class=\"ah_item\">\n",
       "<a class=\"ah_a\" data-clk=\"lve.keyword\" href=\"#\">\n",
       "<span class=\"ah_r\">13</span>\n",
       "<span class=\"ah_k\">조빈</span>\n",
       "</a>\n",
       "</li>\n",
       "<li class=\"ah_item\">\n",
       "<a class=\"ah_a\" data-clk=\"lve.keyword\" href=\"#\">\n",
       "<span class=\"ah_r\">14</span>\n",
       "<span class=\"ah_k\">김연경</span>\n",
       "</a>\n",
       "</li>\n",
       "<li class=\"ah_item\">\n",
       "<a class=\"ah_a\" data-clk=\"lve.keyword\" href=\"#\">\n",
       "<span class=\"ah_r\">15</span>\n",
       "<span class=\"ah_k\">내일 날씨</span>\n",
       "</a>\n",
       "</li>\n",
       "<li class=\"ah_item\">\n",
       "<a class=\"ah_a\" data-clk=\"lve.keyword\" href=\"#\">\n",
       "<span class=\"ah_r\">16</span>\n",
       "<span class=\"ah_k\">솔릭</span>\n",
       "</a>\n",
       "</li>\n",
       "<li class=\"ah_item\">\n",
       "<a class=\"ah_a\" data-clk=\"lve.keyword\" href=\"#\">\n",
       "<span class=\"ah_r\">17</span>\n",
       "<span class=\"ah_k\">마라샹궈 소스</span>\n",
       "</a>\n",
       "</li>\n",
       "<li class=\"ah_item\">\n",
       "<a class=\"ah_a\" data-clk=\"lve.keyword\" href=\"#\">\n",
       "<span class=\"ah_r\">18</span>\n",
       "<span class=\"ah_k\">손흥민 골</span>\n",
       "</a>\n",
       "</li>\n",
       "<li class=\"ah_item\">\n",
       "<a class=\"ah_a\" data-clk=\"lve.keyword\" href=\"#\">\n",
       "<span class=\"ah_r\">19</span>\n",
       "<span class=\"ah_k\">마라샹궈</span>\n",
       "</a>\n",
       "</li>\n",
       "<li class=\"ah_item\">\n",
       "<a class=\"ah_a\" data-clk=\"lve.keyword\" href=\"#\">\n",
       "<span class=\"ah_r\">20</span>\n",
       "<span class=\"ah_k\">이하늘 나이</span>\n",
       "</a>\n",
       "</li>\n",
       "</ul>"
      ]
     },
     "execution_count": 8,
     "metadata": {},
     "output_type": "execute_result"
    }
   ],
   "source": [
    "soup = BeautifulSoup(html, 'html.parser')\n",
    "ul = soup.find('ul', attrs={'class':'ah_l'})\n",
    "ul"
   ]
  },
  {
   "cell_type": "code",
   "execution_count": 9,
   "metadata": {},
   "outputs": [
    {
     "data": {
      "text/plain": [
       "[<li class=\"ah_item\">\n",
       " <a class=\"ah_a\" data-clk=\"lve.keyword\" href=\"#\">\n",
       " <span class=\"ah_r\">1</span>\n",
       " <span class=\"ah_k\">붐붐파워</span>\n",
       " </a>\n",
       " </li>, <li class=\"ah_item\">\n",
       " <a class=\"ah_a\" data-clk=\"lve.keyword\" href=\"#\">\n",
       " <span class=\"ah_r\">2</span>\n",
       " <span class=\"ah_k\">이하늘</span>\n",
       " </a>\n",
       " </li>, <li class=\"ah_item\">\n",
       " <a class=\"ah_a\" data-clk=\"lve.keyword\" href=\"#\">\n",
       " <span class=\"ah_r\">3</span>\n",
       " <span class=\"ah_k\">이하늘 신지</span>\n",
       " </a>\n",
       " </li>, <li class=\"ah_item\">\n",
       " <a class=\"ah_a\" data-clk=\"lve.keyword\" href=\"#\">\n",
       " <span class=\"ah_r\">4</span>\n",
       " <span class=\"ah_k\">황희찬 사포</span>\n",
       " </a>\n",
       " </li>, <li class=\"ah_item\">\n",
       " <a class=\"ah_a\" data-clk=\"lve.keyword\" href=\"#\">\n",
       " <span class=\"ah_r\">5</span>\n",
       " <span class=\"ah_k\">노라조</span>\n",
       " </a>\n",
       " </li>, <li class=\"ah_item\">\n",
       " <a class=\"ah_a\" data-clk=\"lve.keyword\" href=\"#\">\n",
       " <span class=\"ah_r\">6</span>\n",
       " <span class=\"ah_k\">양한나</span>\n",
       " </a>\n",
       " </li>, <li class=\"ah_item\">\n",
       " <a class=\"ah_a\" data-clk=\"lve.keyword\" href=\"#\">\n",
       " <span class=\"ah_r\">7</span>\n",
       " <span class=\"ah_k\">이혁</span>\n",
       " </a>\n",
       " </li>, <li class=\"ah_item\">\n",
       " <a class=\"ah_a\" data-clk=\"lve.keyword\" href=\"#\">\n",
       " <span class=\"ah_r\">8</span>\n",
       " <span class=\"ah_k\">엽총</span>\n",
       " </a>\n",
       " </li>, <li class=\"ah_item\">\n",
       " <a class=\"ah_a\" data-clk=\"lve.keyword\" href=\"#\">\n",
       " <span class=\"ah_r\">9</span>\n",
       " <span class=\"ah_k\">신정환</span>\n",
       " </a>\n",
       " </li>, <li class=\"ah_item\">\n",
       " <a class=\"ah_a\" data-clk=\"lve.keyword\" href=\"#\">\n",
       " <span class=\"ah_r\">10</span>\n",
       " <span class=\"ah_k\">신지</span>\n",
       " </a>\n",
       " </li>, <li class=\"ah_item\">\n",
       " <a class=\"ah_a\" data-clk=\"lve.keyword\" href=\"#\">\n",
       " <span class=\"ah_r\">11</span>\n",
       " <span class=\"ah_k\">태풍경로</span>\n",
       " </a>\n",
       " </li>, <li class=\"ah_item\">\n",
       " <a class=\"ah_a\" data-clk=\"lve.keyword\" href=\"#\">\n",
       " <span class=\"ah_r\">12</span>\n",
       " <span class=\"ah_k\">황희찬</span>\n",
       " </a>\n",
       " </li>, <li class=\"ah_item\">\n",
       " <a class=\"ah_a\" data-clk=\"lve.keyword\" href=\"#\">\n",
       " <span class=\"ah_r\">13</span>\n",
       " <span class=\"ah_k\">조빈</span>\n",
       " </a>\n",
       " </li>, <li class=\"ah_item\">\n",
       " <a class=\"ah_a\" data-clk=\"lve.keyword\" href=\"#\">\n",
       " <span class=\"ah_r\">14</span>\n",
       " <span class=\"ah_k\">김연경</span>\n",
       " </a>\n",
       " </li>, <li class=\"ah_item\">\n",
       " <a class=\"ah_a\" data-clk=\"lve.keyword\" href=\"#\">\n",
       " <span class=\"ah_r\">15</span>\n",
       " <span class=\"ah_k\">내일 날씨</span>\n",
       " </a>\n",
       " </li>, <li class=\"ah_item\">\n",
       " <a class=\"ah_a\" data-clk=\"lve.keyword\" href=\"#\">\n",
       " <span class=\"ah_r\">16</span>\n",
       " <span class=\"ah_k\">솔릭</span>\n",
       " </a>\n",
       " </li>, <li class=\"ah_item\">\n",
       " <a class=\"ah_a\" data-clk=\"lve.keyword\" href=\"#\">\n",
       " <span class=\"ah_r\">17</span>\n",
       " <span class=\"ah_k\">마라샹궈 소스</span>\n",
       " </a>\n",
       " </li>, <li class=\"ah_item\">\n",
       " <a class=\"ah_a\" data-clk=\"lve.keyword\" href=\"#\">\n",
       " <span class=\"ah_r\">18</span>\n",
       " <span class=\"ah_k\">손흥민 골</span>\n",
       " </a>\n",
       " </li>, <li class=\"ah_item\">\n",
       " <a class=\"ah_a\" data-clk=\"lve.keyword\" href=\"#\">\n",
       " <span class=\"ah_r\">19</span>\n",
       " <span class=\"ah_k\">마라샹궈</span>\n",
       " </a>\n",
       " </li>, <li class=\"ah_item\">\n",
       " <a class=\"ah_a\" data-clk=\"lve.keyword\" href=\"#\">\n",
       " <span class=\"ah_r\">20</span>\n",
       " <span class=\"ah_k\">이하늘 나이</span>\n",
       " </a>\n",
       " </li>]"
      ]
     },
     "execution_count": 9,
     "metadata": {},
     "output_type": "execute_result"
    }
   ],
   "source": [
    "all_li = ul.find_all('li')\n",
    "all_li"
   ]
  },
  {
   "cell_type": "code",
   "execution_count": 11,
   "metadata": {},
   "outputs": [
    {
     "data": {
      "text/plain": [
       "[{'rank': 1, 'keyword': '붐붐파워'},\n",
       " {'rank': 2, 'keyword': '이하늘'},\n",
       " {'rank': 3, 'keyword': '이하늘 신지'},\n",
       " {'rank': 4, 'keyword': '황희찬 사포'},\n",
       " {'rank': 5, 'keyword': '노라조'},\n",
       " {'rank': 6, 'keyword': '양한나'},\n",
       " {'rank': 7, 'keyword': '이혁'},\n",
       " {'rank': 8, 'keyword': '엽총'},\n",
       " {'rank': 9, 'keyword': '신정환'},\n",
       " {'rank': 10, 'keyword': '신지'},\n",
       " {'rank': 11, 'keyword': '태풍경로'},\n",
       " {'rank': 12, 'keyword': '황희찬'},\n",
       " {'rank': 13, 'keyword': '조빈'},\n",
       " {'rank': 14, 'keyword': '김연경'},\n",
       " {'rank': 15, 'keyword': '내일 날씨'},\n",
       " {'rank': 16, 'keyword': '솔릭'},\n",
       " {'rank': 17, 'keyword': '마라샹궈 소스'},\n",
       " {'rank': 18, 'keyword': '손흥민 골'},\n",
       " {'rank': 19, 'keyword': '마라샹궈'},\n",
       " {'rank': 20, 'keyword': '이하늘 나이'}]"
      ]
     },
     "execution_count": 11,
     "metadata": {},
     "output_type": "execute_result"
    }
   ],
   "source": [
    "results = []\n",
    "\n",
    "for li in all_li:\n",
    "    rank = li.find('span', attrs={'class':'ah_r'}).text\n",
    "    keyword = li.find('span', attrs={'class':'ah_k'}).text\n",
    "    results.append({\n",
    "        \"rank\": int(rank),\n",
    "        \"keyword\": keyword,\n",
    "    })\n",
    "results"
   ]
  },
  {
   "cell_type": "code",
   "execution_count": 15,
   "metadata": {},
   "outputs": [],
   "source": [
    "base_url = \"http://finance.daum.net/exchange/exchangeDetail.daum?code=\"\n",
    "ex_code = ['USD', 'GBP', 'JPY']\n",
    "\n",
    "for item in ex_code:\n",
    "    \n",
    "    html = requests.get(base_url + item).text\n",
    "    soup = BeautifulSoup(html, 'html.parser')\n",
    "    div = soup.find('div', attrs={'id':'topData'})\n",
    "    div"
   ]
  },
  {
   "cell_type": "code",
   "execution_count": null,
   "metadata": {},
   "outputs": [],
   "source": [
    "# 목요일 오후 12시 55분까지 해야 할 숙제\n",
    "# 1. Flask render_template 완료하기\n",
    "# 2. https://coinmarketcap.com/currencies/bitcoin/ 등 \n",
    "# 상위 20개 코인에 대한 \n",
    "# 현재가격, market cap, volume, Circulating Supply, Max Supply"
   ]
  },
  {
   "cell_type": "code",
   "execution_count": null,
   "metadata": {},
   "outputs": [],
   "source": []
  },
  {
   "cell_type": "code",
   "execution_count": null,
   "metadata": {},
   "outputs": [],
   "source": []
  },
  {
   "cell_type": "code",
   "execution_count": null,
   "metadata": {},
   "outputs": [],
   "source": []
  },
  {
   "cell_type": "code",
   "execution_count": null,
   "metadata": {},
   "outputs": [],
   "source": []
  }
 ],
 "metadata": {
  "kernelspec": {
   "display_name": "Python 3",
   "language": "python",
   "name": "python3"
  },
  "language_info": {
   "codemirror_mode": {
    "name": "ipython",
    "version": 3
   },
   "file_extension": ".py",
   "mimetype": "text/x-python",
   "name": "python",
   "nbconvert_exporter": "python",
   "pygments_lexer": "ipython3",
   "version": "3.7.0"
  }
 },
 "nbformat": 4,
 "nbformat_minor": 2
}
