{
 "cells": [
  {
   "cell_type": "code",
   "execution_count": 1,
   "metadata": {},
   "outputs": [],
   "source": [
    "# fizzbuzz with list comprehension\n",
    "\n",
    "num_list = [i for i in range(1,100+1)]\n",
    "\n",
    "fizzbuzz_list = []\n",
    "\n",
    "for _item in num_list:\n",
    "    if _item % 15 == 0:\n",
    "        _result = \"fizzbuzz\"\n",
    "    else:\n",
    "        if _item % 3 == 0:\n",
    "            _result = \"fizz\"\n",
    "        else:\n",
    "            if _item % 5 == 0:\n",
    "                _result = \"buzz\"\n",
    "            else:\n",
    "                _result = _item\n",
    "                \n",
    "    fizzbuzz_list.append(_result)"
   ]
  },
  {
   "cell_type": "code",
   "execution_count": 9,
   "metadata": {},
   "outputs": [
    {
     "data": {
      "text/plain": [
       "[1,\n",
       " 2,\n",
       " 'fizz',\n",
       " 4,\n",
       " 'buzz',\n",
       " 'fizz',\n",
       " 7,\n",
       " 8,\n",
       " 'fizz',\n",
       " 'buzz',\n",
       " 11,\n",
       " 'fizz',\n",
       " 13,\n",
       " 14,\n",
       " 'fizzbuzz',\n",
       " 16,\n",
       " 17,\n",
       " 'fizz',\n",
       " 19,\n",
       " 'buzz',\n",
       " 'fizz',\n",
       " 22,\n",
       " 23,\n",
       " 'fizz',\n",
       " 'buzz',\n",
       " 26,\n",
       " 'fizz',\n",
       " 28,\n",
       " 29,\n",
       " 'fizzbuzz',\n",
       " 31,\n",
       " 32,\n",
       " 'fizz',\n",
       " 34,\n",
       " 'buzz',\n",
       " 'fizz',\n",
       " 37,\n",
       " 38,\n",
       " 'fizz',\n",
       " 'buzz',\n",
       " 41,\n",
       " 'fizz',\n",
       " 43,\n",
       " 44,\n",
       " 'fizzbuzz',\n",
       " 46,\n",
       " 47,\n",
       " 'fizz',\n",
       " 49,\n",
       " 'buzz',\n",
       " 'fizz',\n",
       " 52,\n",
       " 53,\n",
       " 'fizz',\n",
       " 'buzz',\n",
       " 56,\n",
       " 'fizz',\n",
       " 58,\n",
       " 59,\n",
       " 'fizzbuzz',\n",
       " 61,\n",
       " 62,\n",
       " 'fizz',\n",
       " 64,\n",
       " 'buzz',\n",
       " 'fizz',\n",
       " 67,\n",
       " 68,\n",
       " 'fizz',\n",
       " 'buzz',\n",
       " 71,\n",
       " 'fizz',\n",
       " 73,\n",
       " 74,\n",
       " 'fizzbuzz',\n",
       " 76,\n",
       " 77,\n",
       " 'fizz',\n",
       " 79,\n",
       " 'buzz',\n",
       " 'fizz',\n",
       " 82,\n",
       " 83,\n",
       " 'fizz',\n",
       " 'buzz',\n",
       " 86,\n",
       " 'fizz',\n",
       " 88,\n",
       " 89,\n",
       " 'fizzbuzz',\n",
       " 91,\n",
       " 92,\n",
       " 'fizz',\n",
       " 94,\n",
       " 'buzz',\n",
       " 'fizz',\n",
       " 97,\n",
       " 98,\n",
       " 'fizz',\n",
       " 'buzz']"
      ]
     },
     "execution_count": 9,
     "metadata": {},
     "output_type": "execute_result"
    }
   ],
   "source": [
    "fizzbuzz_list = [\"fizzbuzz\" if _item % 15 == 0 \\\n",
    "                 else \"fizz\" if _item % 3 == 0 \\\n",
    "                 else \"buzz\" if _item % 5 == 0 \\\n",
    "                 else _item \\\n",
    "                 for _item in num_list]\n",
    "fizzbuzz_list"
   ]
  },
  {
   "cell_type": "code",
   "execution_count": 13,
   "metadata": {},
   "outputs": [
    {
     "data": {
      "text/plain": [
       "True"
      ]
     },
     "execution_count": 13,
     "metadata": {},
     "output_type": "execute_result"
    }
   ],
   "source": [
    "not 3 % 3"
   ]
  },
  {
   "cell_type": "code",
   "execution_count": 14,
   "metadata": {},
   "outputs": [
    {
     "data": {
      "text/plain": [
       "''"
      ]
     },
     "execution_count": 14,
     "metadata": {},
     "output_type": "execute_result"
    }
   ],
   "source": [
    "\"fizz\" * False"
   ]
  },
  {
   "cell_type": "code",
   "execution_count": 15,
   "metadata": {},
   "outputs": [
    {
     "data": {
      "text/plain": [
       "'fizz'"
      ]
     },
     "execution_count": 15,
     "metadata": {},
     "output_type": "execute_result"
    }
   ],
   "source": [
    "\"fizz\" * True"
   ]
  },
  {
   "cell_type": "code",
   "execution_count": 16,
   "metadata": {},
   "outputs": [
    {
     "data": {
      "text/plain": [
       "'fizzbuzz'"
      ]
     },
     "execution_count": 16,
     "metadata": {},
     "output_type": "execute_result"
    }
   ],
   "source": [
    "\"fizz\" + \"buzz\""
   ]
  },
  {
   "cell_type": "code",
   "execution_count": 18,
   "metadata": {},
   "outputs": [
    {
     "data": {
      "text/plain": [
       "1"
      ]
     },
     "execution_count": 18,
     "metadata": {},
     "output_type": "execute_result"
    }
   ],
   "source": [
    "'' or 1"
   ]
  },
  {
   "cell_type": "code",
   "execution_count": 22,
   "metadata": {},
   "outputs": [
    {
     "data": {
      "text/plain": [
       "[1,\n",
       " 2,\n",
       " 'fizz',\n",
       " 4,\n",
       " 'buzz',\n",
       " 'fizz',\n",
       " 7,\n",
       " 8,\n",
       " 'fizz',\n",
       " 'buzz',\n",
       " 11,\n",
       " 'fizz',\n",
       " 13,\n",
       " 14,\n",
       " 'fizzbuzz',\n",
       " 16,\n",
       " 17,\n",
       " 'fizz',\n",
       " 19,\n",
       " 'buzz',\n",
       " 'fizz',\n",
       " 22,\n",
       " 23,\n",
       " 'fizz',\n",
       " 'buzz',\n",
       " 26,\n",
       " 'fizz',\n",
       " 28,\n",
       " 29,\n",
       " 'fizzbuzz',\n",
       " 31,\n",
       " 32,\n",
       " 'fizz',\n",
       " 34,\n",
       " 'buzz',\n",
       " 'fizz',\n",
       " 37,\n",
       " 38,\n",
       " 'fizz',\n",
       " 'buzz',\n",
       " 41,\n",
       " 'fizz',\n",
       " 43,\n",
       " 44,\n",
       " 'fizzbuzz',\n",
       " 46,\n",
       " 47,\n",
       " 'fizz',\n",
       " 49,\n",
       " 'buzz',\n",
       " 'fizz',\n",
       " 52,\n",
       " 53,\n",
       " 'fizz',\n",
       " 'buzz',\n",
       " 56,\n",
       " 'fizz',\n",
       " 58,\n",
       " 59,\n",
       " 'fizzbuzz',\n",
       " 61,\n",
       " 62,\n",
       " 'fizz',\n",
       " 64,\n",
       " 'buzz',\n",
       " 'fizz',\n",
       " 67,\n",
       " 68,\n",
       " 'fizz',\n",
       " 'buzz',\n",
       " 71,\n",
       " 'fizz',\n",
       " 73,\n",
       " 74,\n",
       " 'fizzbuzz',\n",
       " 76,\n",
       " 77,\n",
       " 'fizz',\n",
       " 79,\n",
       " 'buzz',\n",
       " 'fizz',\n",
       " 82,\n",
       " 83,\n",
       " 'fizz',\n",
       " 'buzz',\n",
       " 86,\n",
       " 'fizz',\n",
       " 88,\n",
       " 89,\n",
       " 'fizzbuzz',\n",
       " 91,\n",
       " 92,\n",
       " 'fizz',\n",
       " 94,\n",
       " 'buzz',\n",
       " 'fizz',\n",
       " 97,\n",
       " 98,\n",
       " 'fizz',\n",
       " 'buzz']"
      ]
     },
     "execution_count": 22,
     "metadata": {},
     "output_type": "execute_result"
    }
   ],
   "source": [
    "['fizz'*(not i%3) + 'buzz'*(not i%5) or i for i in range(1,100+1)]"
   ]
  },
  {
   "cell_type": "code",
   "execution_count": 27,
   "metadata": {},
   "outputs": [],
   "source": [
    "# == open().write().close()\n",
    "\n",
    "f = open('./sample.txt', 'w')\n",
    "f.write('Hi\\n')\n",
    "f.write('Hello again\\n')\n",
    "f.close()"
   ]
  },
  {
   "cell_type": "code",
   "execution_count": 28,
   "metadata": {},
   "outputs": [],
   "source": [
    "f = open('./sample.txt', 'w')\n",
    "for i in range(1,10+1):\n",
    "    f.write('This is line no.{}.\\n'.format(i))\n",
    "f.close()"
   ]
  },
  {
   "cell_type": "code",
   "execution_count": 29,
   "metadata": {},
   "outputs": [],
   "source": [
    "# append모드로 This is line no.{101 ~ 120}\n",
    "\n",
    "f = open('./sample.txt', 'a')\n",
    "for i in range(101, 120+1):\n",
    "    f.write('This is new line no.{}.\\n'.format(i))\n",
    "f.close()"
   ]
  },
  {
   "cell_type": "code",
   "execution_count": 30,
   "metadata": {},
   "outputs": [
    {
     "name": "stdout",
     "output_type": "stream",
     "text": [
      "This is line no.1.\n",
      "\n"
     ]
    }
   ],
   "source": [
    "# read mode\n",
    "f = open('./sample.txt', 'r')\n",
    "text = f.readline()\n",
    "print(text)\n",
    "f.close()"
   ]
  },
  {
   "cell_type": "code",
   "execution_count": 31,
   "metadata": {},
   "outputs": [
    {
     "name": "stdout",
     "output_type": "stream",
     "text": [
      "This is line no.1.\n",
      "\n",
      "This is line no.2.\n",
      "\n",
      "This is line no.3.\n",
      "\n",
      "This is line no.4.\n",
      "\n",
      "This is line no.5.\n",
      "\n",
      "This is line no.6.\n",
      "\n",
      "This is line no.7.\n",
      "\n",
      "This is line no.8.\n",
      "\n",
      "This is line no.9.\n",
      "\n",
      "This is line no.10.\n",
      "\n",
      "This is new line no.101.\n",
      "\n",
      "This is new line no.102.\n",
      "\n",
      "This is new line no.103.\n",
      "\n",
      "This is new line no.104.\n",
      "\n",
      "This is new line no.105.\n",
      "\n",
      "This is new line no.106.\n",
      "\n",
      "This is new line no.107.\n",
      "\n",
      "This is new line no.108.\n",
      "\n",
      "This is new line no.109.\n",
      "\n",
      "This is new line no.110.\n",
      "\n",
      "This is new line no.111.\n",
      "\n",
      "This is new line no.112.\n",
      "\n",
      "This is new line no.113.\n",
      "\n",
      "This is new line no.114.\n",
      "\n",
      "This is new line no.115.\n",
      "\n",
      "This is new line no.116.\n",
      "\n",
      "This is new line no.117.\n",
      "\n",
      "This is new line no.118.\n",
      "\n",
      "This is new line no.119.\n",
      "\n",
      "This is new line no.120.\n",
      "\n"
     ]
    }
   ],
   "source": [
    "f = open('./sample.txt', 'r')\n",
    "while True:\n",
    "    text = f.readline()\n",
    "    if not text:\n",
    "        break\n",
    "    print(text)\n",
    "f.close()"
   ]
  },
  {
   "cell_type": "code",
   "execution_count": 33,
   "metadata": {},
   "outputs": [
    {
     "name": "stdout",
     "output_type": "stream",
     "text": [
      "This is line no.1.\n",
      "\n",
      "This is line no.2.\n",
      "\n",
      "This is line no.3.\n",
      "\n",
      "This is line no.4.\n",
      "\n",
      "This is line no.5.\n",
      "\n",
      "This is line no.6.\n",
      "\n",
      "This is line no.7.\n",
      "\n",
      "This is line no.8.\n",
      "\n",
      "This is line no.9.\n",
      "\n",
      "This is line no.10.\n",
      "\n",
      "This is new line no.101.\n",
      "\n",
      "This is new line no.102.\n",
      "\n",
      "This is new line no.103.\n",
      "\n",
      "This is new line no.104.\n",
      "\n",
      "This is new line no.105.\n",
      "\n",
      "This is new line no.106.\n",
      "\n",
      "This is new line no.107.\n",
      "\n",
      "This is new line no.108.\n",
      "\n",
      "This is new line no.109.\n",
      "\n",
      "This is new line no.110.\n",
      "\n",
      "This is new line no.111.\n",
      "\n",
      "This is new line no.112.\n",
      "\n",
      "This is new line no.113.\n",
      "\n",
      "This is new line no.114.\n",
      "\n",
      "This is new line no.115.\n",
      "\n",
      "This is new line no.116.\n",
      "\n",
      "This is new line no.117.\n",
      "\n",
      "This is new line no.118.\n",
      "\n",
      "This is new line no.119.\n",
      "\n",
      "This is new line no.120.\n",
      "\n"
     ]
    }
   ],
   "source": [
    "f = open('./sample.txt', 'r')\n",
    "texts = f.readlines()\n",
    "for text in texts:\n",
    "    print(text)\n",
    "f.close()"
   ]
  },
  {
   "cell_type": "code",
   "execution_count": 34,
   "metadata": {},
   "outputs": [
    {
     "name": "stdout",
     "output_type": "stream",
     "text": [
      "This is line no.1.\n",
      "\n",
      "This is line no.2.\n",
      "\n",
      "This is line no.3.\n",
      "\n",
      "This is line no.4.\n",
      "\n",
      "This is line no.5.\n",
      "\n",
      "This is line no.6.\n",
      "\n",
      "This is line no.7.\n",
      "\n",
      "This is line no.8.\n",
      "\n",
      "This is line no.9.\n",
      "\n",
      "This is line no.10.\n",
      "\n",
      "This is new line no.101.\n",
      "\n",
      "This is new line no.102.\n",
      "\n",
      "This is new line no.103.\n",
      "\n",
      "This is new line no.104.\n",
      "\n",
      "This is new line no.105.\n",
      "\n",
      "This is new line no.106.\n",
      "\n",
      "This is new line no.107.\n",
      "\n",
      "This is new line no.108.\n",
      "\n",
      "This is new line no.109.\n",
      "\n",
      "This is new line no.110.\n",
      "\n",
      "This is new line no.111.\n",
      "\n",
      "This is new line no.112.\n",
      "\n",
      "This is new line no.113.\n",
      "\n",
      "This is new line no.114.\n",
      "\n",
      "This is new line no.115.\n",
      "\n",
      "This is new line no.116.\n",
      "\n",
      "This is new line no.117.\n",
      "\n",
      "This is new line no.118.\n",
      "\n",
      "This is new line no.119.\n",
      "\n",
      "This is new line no.120.\n",
      "\n"
     ]
    }
   ],
   "source": [
    "with open('./sample.txt', 'r') as f: # f = open() f.close()\n",
    "    texts = f.readlines()\n",
    "    for text in texts:\n",
    "        print(text)"
   ]
  },
  {
   "cell_type": "code",
   "execution_count": 37,
   "metadata": {},
   "outputs": [],
   "source": [
    "# name, locale, lang\n",
    "# 김패캠, Seoul, Python\n",
    "# 박패캠, Busan, CPP\n",
    "\n",
    "names = [\"김패캠\", \"박패캠\", \"강남\", \"토즈\"]\n",
    "locales = [\"Seoul\", \"Busan\", \"Ulsan\", \"Gwang-ju\"]\n",
    "langs = [\"Python\", \"CPP\", \"Java\", \"javaScript\"]\n",
    "\n",
    "with open('../users.csv', 'w') as f:\n",
    "    for _i in range(0,len(names)):\n",
    "        f.write(\"{},{},{}\\n\".format(names[_i],locales[_i],langs[_i]))\n",
    "    "
   ]
  },
  {
   "cell_type": "code",
   "execution_count": 41,
   "metadata": {},
   "outputs": [
    {
     "name": "stdout",
     "output_type": "stream",
     "text": [
      "['김패캠', 'Seoul', 'Python']\n",
      "['박패캠', 'Busan', 'CPP']\n",
      "['강남', 'Ulsan', 'Java']\n",
      "['토즈', 'Gwang-ju', 'javaScript']\n"
     ]
    }
   ],
   "source": [
    "with open('../users.csv', 'r') as f:\n",
    "    texts = f.readlines()\n",
    "    for text in texts:\n",
    "        print(text.replace('\\n', '').split(','))"
   ]
  },
  {
   "cell_type": "code",
   "execution_count": 42,
   "metadata": {},
   "outputs": [
    {
     "name": "stdout",
     "output_type": "stream",
     "text": [
      "Type some number: 안녕하세요\n"
     ]
    },
    {
     "ename": "ValueError",
     "evalue": "invalid literal for int() with base 10: '안녕하세요'",
     "output_type": "error",
     "traceback": [
      "\u001b[0;31m--------------------------------------------------------------------------\u001b[0m",
      "\u001b[0;31mValueError\u001b[0m                               Traceback (most recent call last)",
      "\u001b[0;32m<ipython-input-42-13c37504e382>\u001b[0m in \u001b[0;36m<module>\u001b[0;34m()\u001b[0m\n\u001b[0;32m----> 1\u001b[0;31m \u001b[0mint\u001b[0m\u001b[0;34m(\u001b[0m\u001b[0minput\u001b[0m\u001b[0;34m(\u001b[0m\u001b[0;34m\"Type some number: \"\u001b[0m\u001b[0;34m)\u001b[0m\u001b[0;34m)\u001b[0m\u001b[0;34m\u001b[0m\u001b[0m\n\u001b[0m",
      "\u001b[0;31mValueError\u001b[0m: invalid literal for int() with base 10: '안녕하세요'"
     ]
    }
   ],
   "source": [
    "int(input(\"Type some number: \"))"
   ]
  },
  {
   "cell_type": "code",
   "execution_count": 47,
   "metadata": {},
   "outputs": [],
   "source": [
    "def get_num():\n",
    "    try:\n",
    "        some_num = int(input(\"Type some number: \"))\n",
    "    except ValueError:\n",
    "        print(\"I said NUMBER!!\")\n",
    "        get_num()"
   ]
  },
  {
   "cell_type": "code",
   "execution_count": 49,
   "metadata": {},
   "outputs": [
    {
     "ename": "FileNotFoundError",
     "evalue": "[Errno 2] No such file or directory: './existance.txt'",
     "output_type": "error",
     "traceback": [
      "\u001b[0;31m--------------------------------------------------------------------------\u001b[0m",
      "\u001b[0;31mFileNotFoundError\u001b[0m                        Traceback (most recent call last)",
      "\u001b[0;32m<ipython-input-49-ac730d3d1941>\u001b[0m in \u001b[0;36m<module>\u001b[0;34m()\u001b[0m\n\u001b[0;32m----> 1\u001b[0;31m \u001b[0mf\u001b[0m \u001b[0;34m=\u001b[0m \u001b[0mopen\u001b[0m\u001b[0;34m(\u001b[0m\u001b[0;34m'./existance.txt'\u001b[0m\u001b[0;34m,\u001b[0m \u001b[0;34m'r'\u001b[0m\u001b[0;34m)\u001b[0m\u001b[0;34m\u001b[0m\u001b[0m\n\u001b[0m",
      "\u001b[0;31mFileNotFoundError\u001b[0m: [Errno 2] No such file or directory: './existance.txt'"
     ]
    }
   ],
   "source": [
    "f = open('./existance.txt', 'r')"
   ]
  },
  {
   "cell_type": "code",
   "execution_count": 54,
   "metadata": {},
   "outputs": [
    {
     "name": "stdout",
     "output_type": "stream",
     "text": [
      "File doesn't exist. choose another file.\n"
     ]
    }
   ],
   "source": [
    "try:\n",
    "    f = open('./existance.txt', 'r')\n",
    "except FileNotFoundError:\n",
    "    print(\"File doesn't exist. choose another file.\")"
   ]
  },
  {
   "cell_type": "code",
   "execution_count": 53,
   "metadata": {},
   "outputs": [
    {
     "ename": "ValueError",
     "evalue": "I/O operation on closed file.",
     "output_type": "error",
     "traceback": [
      "\u001b[0;31m--------------------------------------------------------------------------\u001b[0m",
      "\u001b[0;31mValueError\u001b[0m                               Traceback (most recent call last)",
      "\u001b[0;32m<ipython-input-53-6f55369c8170>\u001b[0m in \u001b[0;36m<module>\u001b[0;34m()\u001b[0m\n\u001b[0;32m----> 1\u001b[0;31m \u001b[0mf\u001b[0m\u001b[0;34m.\u001b[0m\u001b[0mwrite\u001b[0m\u001b[0;34m(\u001b[0m\u001b[0;34m'a'\u001b[0m\u001b[0;34m)\u001b[0m\u001b[0;34m\u001b[0m\u001b[0m\n\u001b[0m",
      "\u001b[0;31mValueError\u001b[0m: I/O operation on closed file."
     ]
    }
   ],
   "source": [
    "f.write('a')"
   ]
  },
  {
   "cell_type": "code",
   "execution_count": 56,
   "metadata": {},
   "outputs": [
    {
     "name": "stdout",
     "output_type": "stream",
     "text": [
      "Type some number: 1\n",
      "Name error has occured.\n"
     ]
    }
   ],
   "source": [
    "\n",
    "try:\n",
    "    some_num1 = int(input(\"Type some number: \"))\n",
    "    result = some_num1 + sldkfjsldkfj\n",
    "except ValueError:\n",
    "    print(\"Value error has occured.\")\n",
    "except NameError:\n",
    "    print(\"Name error has occured.\")"
   ]
  },
  {
   "cell_type": "code",
   "execution_count": 57,
   "metadata": {},
   "outputs": [],
   "source": [
    "def noname():\n",
    "    try:\n",
    "        eval(input(\"Type something: \"))\n",
    "    except NameError:\n",
    "        print(\"You need to use ' ' to type string\")\n",
    "        noname()"
   ]
  },
  {
   "cell_type": "code",
   "execution_count": 60,
   "metadata": {},
   "outputs": [
    {
     "name": "stdout",
     "output_type": "stream",
     "text": [
      "Type something: slkdjflskjdflksjdfl\n",
      "You need to use ' ' to type string\n",
      "Type something: 'slkdjflskjdflksdj'\n"
     ]
    }
   ],
   "source": [
    "noname()"
   ]
  }
 ],
 "metadata": {
  "kernelspec": {
   "display_name": "Python 3",
   "language": "python",
   "name": "python3"
  },
  "language_info": {
   "codemirror_mode": {
    "name": "ipython",
    "version": 3
   },
   "file_extension": ".py",
   "mimetype": "text/x-python",
   "name": "python",
   "nbconvert_exporter": "python",
   "pygments_lexer": "ipython3",
   "version": "3.7.0"
  }
 },
 "nbformat": 4,
 "nbformat_minor": 2
}
