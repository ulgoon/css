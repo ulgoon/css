{
 "cells": [
  {
   "cell_type": "code",
   "execution_count": 1,
   "metadata": {},
   "outputs": [],
   "source": [
    "from time import time\n",
    "import math"
   ]
  },
  {
   "cell_type": "code",
   "execution_count": 2,
   "metadata": {},
   "outputs": [],
   "source": [
    "# if문 하나로 윤년 판독하기 함수\n",
    "def is_leap(year):\n",
    "    if year%4==0 and (year%100!=0 or year%400==0):\n",
    "        return True\n",
    "    else:\n",
    "        return False"
   ]
  },
  {
   "cell_type": "code",
   "execution_count": 3,
   "metadata": {},
   "outputs": [
    {
     "name": "stdout",
     "output_type": "stream",
     "text": [
      "Type year: 2000\n",
      "윤년입니다\n"
     ]
    }
   ],
   "source": [
    "user_year = int(input(\"Type year: \"))\n",
    "if is_leap(user_year):\n",
    "    print(\"윤년입니다\")\n",
    "else:\n",
    "    print(\"평년입니다\")\n",
    "    \n",
    "# Try to type 2000(leap), 2002(plain), 2003(plain), 2004(leap), 2100(plain), 2400(leap)"
   ]
  },
  {
   "cell_type": "code",
   "execution_count": 4,
   "metadata": {},
   "outputs": [],
   "source": [
    "# Fibonacci Sequence\n",
    "\n",
    "def fib_rec(num):\n",
    "    if num <= 1:\n",
    "        return num\n",
    "    else:\n",
    "        return fib_rec(num-1) + fib_rec(num-2)"
   ]
  },
  {
   "cell_type": "code",
   "execution_count": 5,
   "metadata": {},
   "outputs": [
    {
     "name": "stdout",
     "output_type": "stream",
     "text": [
      "1\n",
      "1\n",
      "2\n",
      "3\n",
      "5\n",
      "8\n",
      "13\n",
      "21\n",
      "34\n",
      "55\n"
     ]
    }
   ],
   "source": [
    "for i in range(1,10+1):\n",
    "    print(fib_rec(i))"
   ]
  },
  {
   "cell_type": "code",
   "execution_count": 6,
   "metadata": {},
   "outputs": [],
   "source": [
    "# binet's formula\n",
    "def fib_binet(num):\n",
    "    if num < 0:\n",
    "        return \"Wrong!\"\n",
    "    else:\n",
    "        sqrt_5 = math.sqrt(5)\n",
    "        return int(((1+sqrt_5)**num - (1-sqrt_5)**num) / \n",
    "                   (2**num * sqrt_5))"
   ]
  },
  {
   "cell_type": "code",
   "execution_count": 7,
   "metadata": {},
   "outputs": [
    {
     "name": "stdout",
     "output_type": "stream",
     "text": [
      "1\n",
      "1\n",
      "2\n",
      "3\n",
      "5\n",
      "8\n",
      "13\n",
      "21\n",
      "34\n",
      "55\n"
     ]
    }
   ],
   "source": [
    "for i in range(1,10+1):\n",
    "    print(fib_binet(i))"
   ]
  },
  {
   "cell_type": "code",
   "execution_count": 8,
   "metadata": {},
   "outputs": [
    {
     "name": "stdout",
     "output_type": "stream",
     "text": [
      "1.1067790985107422\n"
     ]
    }
   ],
   "source": [
    "# Time check fib_rec\n",
    "start = time()\n",
    "for i in range(1,30+1):\n",
    "    fib_rec(i)\n",
    "end = time()\n",
    "print(end-start)"
   ]
  },
  {
   "cell_type": "code",
   "execution_count": 9,
   "metadata": {},
   "outputs": [
    {
     "name": "stdout",
     "output_type": "stream",
     "text": [
      "0.0002219676971435547\n"
     ]
    }
   ],
   "source": [
    "# Time check fib_binet\n",
    "start = time()\n",
    "for i in range(1,30+1):\n",
    "    fib_binet(i)\n",
    "end = time()\n",
    "print(end-start)"
   ]
  },
  {
   "cell_type": "code",
   "execution_count": null,
   "metadata": {},
   "outputs": [],
   "source": []
  }
 ],
 "metadata": {
  "kernelspec": {
   "display_name": "Python 3",
   "language": "python",
   "name": "python3"
  },
  "language_info": {
   "codemirror_mode": {
    "name": "ipython",
    "version": 3
   },
   "file_extension": ".py",
   "mimetype": "text/x-python",
   "name": "python",
   "nbconvert_exporter": "python",
   "pygments_lexer": "ipython3",
   "version": "3.7.0"
  }
 },
 "nbformat": 4,
 "nbformat_minor": 2
}
