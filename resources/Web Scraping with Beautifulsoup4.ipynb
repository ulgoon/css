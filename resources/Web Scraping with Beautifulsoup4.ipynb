{
 "cells": [
  {
   "cell_type": "code",
   "execution_count": 2,
   "metadata": {},
   "outputs": [],
   "source": [
    "import requests\n",
    "from bs4 import BeautifulSoup"
   ]
  },
  {
   "cell_type": "code",
   "execution_count": 3,
   "metadata": {},
   "outputs": [
    {
     "data": {
      "text/plain": [
       "<Response [200]>"
      ]
     },
     "execution_count": 3,
     "metadata": {},
     "output_type": "execute_result"
    }
   ],
   "source": [
    "response = requests.get('https://www.google.com/')\n",
    "response"
   ]
  },
  {
   "cell_type": "code",
   "execution_count": 5,
   "metadata": {},
   "outputs": [
    {
     "data": {
      "text/plain": [
       "<Response [200]>"
      ]
     },
     "execution_count": 5,
     "metadata": {},
     "output_type": "execute_result"
    }
   ],
   "source": [
    "uri = \"https://www.naver.com\"\n",
    "response = requests.get(uri)\n",
    "response"
   ]
  },
  {
   "cell_type": "code",
   "execution_count": 6,
   "metadata": {},
   "outputs": [
    {
     "data": {
      "text/plain": [
       "'<!doctype html>\\n\\n\\n\\n\\n\\n\\n\\n\\n\\n\\n\\n\\n\\n\\n\\n\\n<html lang=\"ko\">\\n<head>\\n<meta charset=\"utf-8\">\\n<meta name=\"Referrer\" content=\"origin\">\\n<meta http-equiv=\"Content-Script-Type\" content=\"text/javascript\">\\n<meta http-equiv=\"Content-Style-Type\" content=\"text/css\">\\n<meta http-equiv=\"X-UA-Compatible\" content=\"IE=edge\">\\n<meta name=\"viewport\" content=\"width=1100\">\\n<meta name=\"apple-mobile-web-app-title\" content=\"NAVER\" />\\n'"
      ]
     },
     "execution_count": 6,
     "metadata": {},
     "output_type": "execute_result"
    }
   ],
   "source": [
    "response.text[:400]"
   ]
  },
  {
   "cell_type": "code",
   "execution_count": 7,
   "metadata": {},
   "outputs": [],
   "source": [
    "html = response.text"
   ]
  },
  {
   "cell_type": "code",
   "execution_count": 8,
   "metadata": {},
   "outputs": [],
   "source": [
    "soup = BeautifulSoup(html, 'html.parser')"
   ]
  },
  {
   "cell_type": "code",
   "execution_count": 11,
   "metadata": {
    "scrolled": false
   },
   "outputs": [
    {
     "data": {
      "text/plain": [
       "[<li class=\"ah_item\">\n",
       " <a class=\"ah_a\" data-clk=\"lve.keyword\" href=\"#\">\n",
       " <span class=\"ah_r\">1</span>\n",
       " <span class=\"ah_k\">승리 카톡</span>\n",
       " </a>\n",
       " </li>, <li class=\"ah_item\">\n",
       " <a class=\"ah_a\" data-clk=\"lve.keyword\" href=\"#\">\n",
       " <span class=\"ah_r\">2</span>\n",
       " <span class=\"ah_k\">송다예</span>\n",
       " </a>\n",
       " </li>, <li class=\"ah_item\">\n",
       " <a class=\"ah_a\" data-clk=\"lve.keyword\" href=\"#\">\n",
       " <span class=\"ah_r\">3</span>\n",
       " <span class=\"ah_k\">승리</span>\n",
       " </a>\n",
       " </li>, <li class=\"ah_item\">\n",
       " <a class=\"ah_a\" data-clk=\"lve.keyword\" href=\"#\">\n",
       " <span class=\"ah_r\">4</span>\n",
       " <span class=\"ah_k\">박한별 남편</span>\n",
       " </a>\n",
       " </li>, <li class=\"ah_item\">\n",
       " <a class=\"ah_a\" data-clk=\"lve.keyword\" href=\"#\">\n",
       " <span class=\"ah_r\">5</span>\n",
       " <span class=\"ah_k\">이영하</span>\n",
       " </a>\n",
       " </li>, <li class=\"ah_item\">\n",
       " <a class=\"ah_a\" data-clk=\"lve.keyword\" href=\"#\">\n",
       " <span class=\"ah_r\">6</span>\n",
       " <span class=\"ah_k\">yg엔터테인먼트</span>\n",
       " </a>\n",
       " </li>, <li class=\"ah_item\">\n",
       " <a class=\"ah_a\" data-clk=\"lve.keyword\" href=\"#\">\n",
       " <span class=\"ah_r\">7</span>\n",
       " <span class=\"ah_k\">유리홀딩스</span>\n",
       " </a>\n",
       " </li>, <li class=\"ah_item\">\n",
       " <a class=\"ah_a\" data-clk=\"lve.keyword\" href=\"#\">\n",
       " <span class=\"ah_r\">8</span>\n",
       " <span class=\"ah_k\">디스패치</span>\n",
       " </a>\n",
       " </li>, <li class=\"ah_item\">\n",
       " <a class=\"ah_a\" data-clk=\"lve.keyword\" href=\"#\">\n",
       " <span class=\"ah_r\">9</span>\n",
       " <span class=\"ah_k\">방시혁</span>\n",
       " </a>\n",
       " </li>, <li class=\"ah_item\">\n",
       " <a class=\"ah_a\" data-clk=\"lve.keyword\" href=\"#\">\n",
       " <span class=\"ah_r\">10</span>\n",
       " <span class=\"ah_k\">승리 성접대</span>\n",
       " </a>\n",
       " </li>, <li class=\"ah_item\">\n",
       " <a class=\"ah_a\" data-clk=\"lve.keyword\" href=\"#\">\n",
       " <span class=\"ah_r\">11</span>\n",
       " <span class=\"ah_k\">옹성우</span>\n",
       " </a>\n",
       " </li>, <li class=\"ah_item\">\n",
       " <a class=\"ah_a\" data-clk=\"lve.keyword\" href=\"#\">\n",
       " <span class=\"ah_r\">12</span>\n",
       " <span class=\"ah_k\">김태희</span>\n",
       " </a>\n",
       " </li>, <li class=\"ah_item\">\n",
       " <a class=\"ah_a\" data-clk=\"lve.keyword\" href=\"#\">\n",
       " <span class=\"ah_r\">13</span>\n",
       " <span class=\"ah_k\">박아인</span>\n",
       " </a>\n",
       " </li>, <li class=\"ah_item\">\n",
       " <a class=\"ah_a\" data-clk=\"lve.keyword\" href=\"#\">\n",
       " <span class=\"ah_r\">14</span>\n",
       " <span class=\"ah_k\">신수항</span>\n",
       " </a>\n",
       " </li>, <li class=\"ah_item\">\n",
       " <a class=\"ah_a\" data-clk=\"lve.keyword\" href=\"#\">\n",
       " <span class=\"ah_r\">15</span>\n",
       " <span class=\"ah_k\">지드래곤</span>\n",
       " </a>\n",
       " </li>, <li class=\"ah_item\">\n",
       " <a class=\"ah_a\" data-clk=\"lve.keyword\" href=\"#\">\n",
       " <span class=\"ah_r\">16</span>\n",
       " <span class=\"ah_k\">동탄교통집회</span>\n",
       " </a>\n",
       " </li>, <li class=\"ah_item\">\n",
       " <a class=\"ah_a\" data-clk=\"lve.keyword\" href=\"#\">\n",
       " <span class=\"ah_r\">17</span>\n",
       " <span class=\"ah_k\">한명숙</span>\n",
       " </a>\n",
       " </li>, <li class=\"ah_item\">\n",
       " <a class=\"ah_a\" data-clk=\"lve.keyword\" href=\"#\">\n",
       " <span class=\"ah_r\">18</span>\n",
       " <span class=\"ah_k\">에이티브</span>\n",
       " </a>\n",
       " </li>, <li class=\"ah_item\">\n",
       " <a class=\"ah_a\" data-clk=\"lve.keyword\" href=\"#\">\n",
       " <span class=\"ah_r\">19</span>\n",
       " <span class=\"ah_k\">핑크에이지</span>\n",
       " </a>\n",
       " </li>, <li class=\"ah_item\">\n",
       " <a class=\"ah_a\" data-clk=\"lve.keyword\" href=\"#\">\n",
       " <span class=\"ah_r\">20</span>\n",
       " <span class=\"ah_k\">yg</span>\n",
       " </a>\n",
       " </li>]"
      ]
     },
     "execution_count": 11,
     "metadata": {},
     "output_type": "execute_result"
    }
   ],
   "source": [
    "ul = soup.find(\"ul\", attrs={'class':\"ah_l\"})\n",
    "all_li = ul.find_all(\"li\")\n",
    "all_li"
   ]
  },
  {
   "cell_type": "code",
   "execution_count": 14,
   "metadata": {},
   "outputs": [
    {
     "data": {
      "text/plain": [
       "'승리 카톡'"
      ]
     },
     "execution_count": 14,
     "metadata": {},
     "output_type": "execute_result"
    }
   ],
   "source": [
    "all_li[0].find(\"span\", attrs={'class':\"ah_k\"}).text"
   ]
  },
  {
   "cell_type": "code",
   "execution_count": 15,
   "metadata": {
    "scrolled": true
   },
   "outputs": [
    {
     "name": "stdout",
     "output_type": "stream",
     "text": [
      "승리 카톡\n",
      "송다예\n",
      "승리\n",
      "박한별 남편\n",
      "이영하\n",
      "yg엔터테인먼트\n",
      "유리홀딩스\n",
      "디스패치\n",
      "방시혁\n",
      "승리 성접대\n",
      "옹성우\n",
      "김태희\n",
      "박아인\n",
      "신수항\n",
      "지드래곤\n",
      "동탄교통집회\n",
      "한명숙\n",
      "에이티브\n",
      "핑크에이지\n",
      "yg\n"
     ]
    }
   ],
   "source": [
    "for li in all_li:\n",
    "    keyword = li.find(\"span\", attrs={'class':\"ah_k\"}).text\n",
    "    print(keyword)"
   ]
  },
  {
   "cell_type": "code",
   "execution_count": 16,
   "metadata": {},
   "outputs": [
    {
     "data": {
      "text/plain": [
       "28"
      ]
     },
     "execution_count": 16,
     "metadata": {},
     "output_type": "execute_result"
    }
   ],
   "source": [
    "len(soup.find_all(\"ul\"))"
   ]
  }
 ],
 "metadata": {
  "kernelspec": {
   "display_name": "Python 3",
   "language": "python",
   "name": "python3"
  },
  "language_info": {
   "codemirror_mode": {
    "name": "ipython",
    "version": 3
   },
   "file_extension": ".py",
   "mimetype": "text/x-python",
   "name": "python",
   "nbconvert_exporter": "python",
   "pygments_lexer": "ipython3",
   "version": "3.7.0"
  }
 },
 "nbformat": 4,
 "nbformat_minor": 2
}
