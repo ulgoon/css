{
 "cells": [
  {
   "cell_type": "code",
   "execution_count": 6,
   "metadata": {},
   "outputs": [],
   "source": [
    "# 윤년은 4년에 한번 돌아오는데, 100의 배수면 평년이고, 400의 배수면 윤년이다\n",
    "def is_leap(year):\n",
    "    if isinstance(year,int) and year > 0:\n",
    "        result = \"\"\n",
    "        if year % 400 == 0: # 숙제1: and와 or 을 이용해서 if 문 하나로 abstract \n",
    "            result = \"윤년\"\n",
    "        elif year % 100 == 0:\n",
    "            result = \"평년\"\n",
    "        elif year % 4 == 0:\n",
    "            result = \"윤년\"\n",
    "        else:\n",
    "            result = \"평년\"\n",
    "        return \"{}년은 {}입니다.\".format(year,result)\n",
    "    elif isinstance(year,int) and year <= 0:\n",
    "        return \"연도는 AD여야 합니다.(양의 정수)\"\n",
    "    else:\n",
    "        return \"정수를 입력해야 합니다\""
   ]
  },
  {
   "cell_type": "code",
   "execution_count": 7,
   "metadata": {},
   "outputs": [
    {
     "data": {
      "text/plain": [
       "'정수를 입력해야 합니다'"
      ]
     },
     "execution_count": 7,
     "metadata": {},
     "output_type": "execute_result"
    }
   ],
   "source": [
    "is_leap(\"2012년\")"
   ]
  },
  {
   "cell_type": "code",
   "execution_count": 25,
   "metadata": {},
   "outputs": [
    {
     "name": "stdout",
     "output_type": "stream",
     "text": [
      "stay: 333788(0.333788), switch: 666212(0.666212)\n"
     ]
    }
   ],
   "source": [
    "# Monty Hall Problem\n",
    "import random\n",
    "\n",
    "\n",
    "stay = 0\n",
    "switch = 0\n",
    "trial = 1000000\n",
    "\n",
    "for _ in range(trial):\n",
    "    doors = [0,0,1] # 염소 2마리, 스포츠카 1대\n",
    "    random.shuffle(doors)\n",
    "    # print(doors)\n",
    "    \n",
    "    #print(random.randrange(3))\n",
    "    choice = random.randrange(3)\n",
    "    user = doors.pop(choice)\n",
    "    #print(user)\n",
    "    if user == 1:\n",
    "        stay += 1\n",
    "    elif user == 0:\n",
    "        switch += 1\n",
    "        \n",
    "print(\"stay: {0}({1}), switch: {2}({3})\".format(\n",
    "    stay, stay/trial, switch, switch/trial))"
   ]
  },
  {
   "cell_type": "code",
   "execution_count": 11,
   "metadata": {},
   "outputs": [
    {
     "name": "stdout",
     "output_type": "stream",
     "text": [
      "[0]\n"
     ]
    }
   ],
   "source": [
    "print(list(range(1)))"
   ]
  },
  {
   "cell_type": "code",
   "execution_count": 10,
   "metadata": {},
   "outputs": [
    {
     "name": "stdout",
     "output_type": "stream",
     "text": [
      "[1, 2, 3, 4, 5, 6, 7, 8, 9, 10]\n"
     ]
    }
   ],
   "source": [
    "print(list(range(1,10+1)))"
   ]
  },
  {
   "cell_type": "code",
   "execution_count": 34,
   "metadata": {},
   "outputs": [],
   "source": [
    "def recurse_beast(n):\n",
    "    if n == 1:\n",
    "        print(\"Final Fusion!\")\n",
    "        return \"Recurse complete!\"\n",
    "    else:\n",
    "        print(\"Fusion! ({} times left)\".format(n-1))\n",
    "        return recurse_beast(n-1)"
   ]
  },
  {
   "cell_type": "code",
   "execution_count": 35,
   "metadata": {},
   "outputs": [
    {
     "name": "stdout",
     "output_type": "stream",
     "text": [
      "How many times do you want to curse beast?10\n",
      "Fusion! (9 times left)\n",
      "Fusion! (8 times left)\n",
      "Fusion! (7 times left)\n",
      "Fusion! (6 times left)\n",
      "Fusion! (5 times left)\n",
      "Fusion! (4 times left)\n",
      "Fusion! (3 times left)\n",
      "Fusion! (2 times left)\n",
      "Fusion! (1 times left)\n",
      "Final Fusion!\n"
     ]
    },
    {
     "data": {
      "text/plain": [
       "'Recurse complete!'"
      ]
     },
     "execution_count": 35,
     "metadata": {},
     "output_type": "execute_result"
    }
   ],
   "source": [
    "trial = int(input(\"How many times do you want to curse beast?\"))\n",
    "recurse_beast(trial)"
   ]
  },
  {
   "cell_type": "code",
   "execution_count": 36,
   "metadata": {},
   "outputs": [
    {
     "data": {
      "text/plain": [
       "[2, 4, 6, 8, 10, 12, 14, 16, 18, 20]"
      ]
     },
     "execution_count": 36,
     "metadata": {},
     "output_type": "execute_result"
    }
   ],
   "source": [
    "# List Comprehension\n",
    "old_list=list(range(1,10+1)) #[1,2,3,4,5,6,7,8,9,10]\n",
    "\n",
    "new_list = []\n",
    "\n",
    "for item in old_list:\n",
    "    result = item * 2\n",
    "    new_list.append(result)\n",
    "    \n",
    "new_list # [2,4,6,8,10, ...]"
   ]
  },
  {
   "cell_type": "code",
   "execution_count": 37,
   "metadata": {},
   "outputs": [
    {
     "data": {
      "text/plain": [
       "[2, 4, 6, 8, 10, 12, 14, 16, 18, 20]"
      ]
     },
     "execution_count": 37,
     "metadata": {},
     "output_type": "execute_result"
    }
   ],
   "source": [
    "new_list = [item * 2 for item in old_list]\n",
    "new_list"
   ]
  },
  {
   "cell_type": "code",
   "execution_count": 38,
   "metadata": {},
   "outputs": [
    {
     "data": {
      "text/plain": [
       "[4, 8, 12, 16, 20]"
      ]
     },
     "execution_count": 38,
     "metadata": {},
     "output_type": "execute_result"
    }
   ],
   "source": [
    "old_list = list(range(1,10+1))\n",
    "\n",
    "new_list = []\n",
    "\n",
    "for item in old_list:\n",
    "    if item%2==0:\n",
    "        new_list.append(item*2)\n",
    "        \n",
    "new_list"
   ]
  },
  {
   "cell_type": "code",
   "execution_count": 40,
   "metadata": {},
   "outputs": [
    {
     "data": {
      "text/plain": [
       "[4, 8, 12, 16, 20]"
      ]
     },
     "execution_count": 40,
     "metadata": {},
     "output_type": "execute_result"
    }
   ],
   "source": [
    "new_list = [item*2 for item in old_list if item%2==0]\n",
    "new_list"
   ]
  },
  {
   "cell_type": "code",
   "execution_count": 41,
   "metadata": {},
   "outputs": [
    {
     "data": {
      "text/plain": [
       "[1, 4, 9, 8, 25, 12, 49, 16, 81, 20]"
      ]
     },
     "execution_count": 41,
     "metadata": {},
     "output_type": "execute_result"
    }
   ],
   "source": [
    "old_list = list(range(1,10+1))\n",
    "\n",
    "new_list = []\n",
    "\n",
    "for item in old_list:\n",
    "    if item%2==0:\n",
    "        new_list.append(item*2)\n",
    "    else:\n",
    "        new_list.append(item**2)\n",
    "new_list"
   ]
  },
  {
   "cell_type": "code",
   "execution_count": 44,
   "metadata": {},
   "outputs": [
    {
     "data": {
      "text/plain": [
       "[1, 4, 9, 8, 25, 12, 49, 16, 81, 20]"
      ]
     },
     "execution_count": 44,
     "metadata": {},
     "output_type": "execute_result"
    }
   ],
   "source": [
    "new_list = [item*2 if item%2==0 else item**2 for item in old_list]\n",
    "new_list"
   ]
  },
  {
   "cell_type": "code",
   "execution_count": 43,
   "metadata": {},
   "outputs": [
    {
     "data": {
      "text/plain": [
       "'b'"
      ]
     },
     "execution_count": 43,
     "metadata": {},
     "output_type": "execute_result"
    }
   ],
   "source": [
    "\"a\" if False else \"b\""
   ]
  },
  {
   "cell_type": "code",
   "execution_count": 46,
   "metadata": {},
   "outputs": [
    {
     "data": {
      "text/plain": [
       "'c'"
      ]
     },
     "execution_count": 46,
     "metadata": {},
     "output_type": "execute_result"
    }
   ],
   "source": [
    "\"a\" if False else \"b\" if False else \"c\""
   ]
  },
  {
   "cell_type": "code",
   "execution_count": null,
   "metadata": {},
   "outputs": [],
   "source": [
    "if True:\n",
    "    \"a\"\n",
    "else:\n",
    "    if True:\n",
    "        \"b\"\n",
    "    else:\n",
    "        \"c\""
   ]
  },
  {
   "cell_type": "code",
   "execution_count": 49,
   "metadata": {},
   "outputs": [],
   "source": [
    "num_list = [i for i in range(1,100+1)] # or just list(range(1,100+1))\n",
    "\n",
    "# 15의 배수는 fizzbuzz, 3의 배수는 fizz, 5의 배수는 buzz, 나머지는 그 수\n",
    "result_list = []\n",
    "\n",
    "for i in num_list:\n",
    "    if i%15==0:\n",
    "        result_list.append(\"fizzbuzz\")\n",
    "    else:\n",
    "        if i%3==0:\n",
    "            result_list.append(\"fizz\")\n",
    "        else:\n",
    "            if i%5==0:\n",
    "                result_list.append(\"buzz\")\n",
    "            else:\n",
    "                result_list.append(i)"
   ]
  },
  {
   "cell_type": "code",
   "execution_count": 56,
   "metadata": {},
   "outputs": [
    {
     "data": {
      "text/plain": [
       "[1,\n",
       " 2,\n",
       " 'fizz',\n",
       " 4,\n",
       " 'buzz',\n",
       " 'fizz',\n",
       " 7,\n",
       " 8,\n",
       " 'fizz',\n",
       " 'buzz',\n",
       " 11,\n",
       " 'fizz',\n",
       " 13,\n",
       " 14,\n",
       " 'fizzbuzz',\n",
       " 16,\n",
       " 17,\n",
       " 'fizz',\n",
       " 19,\n",
       " 'buzz',\n",
       " 'fizz',\n",
       " 22,\n",
       " 23,\n",
       " 'fizz',\n",
       " 'buzz',\n",
       " 26,\n",
       " 'fizz',\n",
       " 28,\n",
       " 29,\n",
       " 'fizzbuzz',\n",
       " 31,\n",
       " 32,\n",
       " 'fizz',\n",
       " 34,\n",
       " 'buzz',\n",
       " 'fizz',\n",
       " 37,\n",
       " 38,\n",
       " 'fizz',\n",
       " 'buzz',\n",
       " 41,\n",
       " 'fizz',\n",
       " 43,\n",
       " 44,\n",
       " 'fizzbuzz',\n",
       " 46,\n",
       " 47,\n",
       " 'fizz',\n",
       " 49,\n",
       " 'buzz',\n",
       " 'fizz',\n",
       " 52,\n",
       " 53,\n",
       " 'fizz',\n",
       " 'buzz',\n",
       " 56,\n",
       " 'fizz',\n",
       " 58,\n",
       " 59,\n",
       " 'fizzbuzz',\n",
       " 61,\n",
       " 62,\n",
       " 'fizz',\n",
       " 64,\n",
       " 'buzz',\n",
       " 'fizz',\n",
       " 67,\n",
       " 68,\n",
       " 'fizz',\n",
       " 'buzz',\n",
       " 71,\n",
       " 'fizz',\n",
       " 73,\n",
       " 74,\n",
       " 'fizzbuzz',\n",
       " 76,\n",
       " 77,\n",
       " 'fizz',\n",
       " 79,\n",
       " 'buzz',\n",
       " 'fizz',\n",
       " 82,\n",
       " 83,\n",
       " 'fizz',\n",
       " 'buzz',\n",
       " 86,\n",
       " 'fizz',\n",
       " 88,\n",
       " 89,\n",
       " 'fizzbuzz',\n",
       " 91,\n",
       " 92,\n",
       " 'fizz',\n",
       " 94,\n",
       " 'buzz',\n",
       " 'fizz',\n",
       " 97,\n",
       " 98,\n",
       " 'fizz',\n",
       " 'buzz']"
      ]
     },
     "execution_count": 56,
     "metadata": {},
     "output_type": "execute_result"
    }
   ],
   "source": [
    "# fizzbuzz with list comprehension\n",
    "fizzbuzz_list = [\n",
    "    \"fizzbuzz\" if i%15==0 else \n",
    "    \"fizz\" if i%3==0 else \n",
    "    \"buzz\" if i%5==0 else i \n",
    "    for i in num_list]\n",
    "fizzbuzz_list"
   ]
  },
  {
   "cell_type": "code",
   "execution_count": 65,
   "metadata": {},
   "outputs": [
    {
     "data": {
      "text/plain": [
       "{'a': 1, 'c': 2}"
      ]
     },
     "execution_count": 65,
     "metadata": {},
     "output_type": "execute_result"
    }
   ],
   "source": [
    "some_dict={v:k for k,v in {1:\"a\",2:\"c\"}.items()}\n",
    "some_dict"
   ]
  },
  {
   "cell_type": "code",
   "execution_count": 59,
   "metadata": {},
   "outputs": [],
   "source": [
    "# File I/O\n",
    "f = open('./newfile.txt','w')\n",
    "f.close()"
   ]
  },
  {
   "cell_type": "code",
   "execution_count": 60,
   "metadata": {},
   "outputs": [],
   "source": [
    "f = open('./newfile.txt','w')\n",
    "f.write(\"Hello, there! \\n\")\n",
    "f.close()"
   ]
  },
  {
   "cell_type": "code",
   "execution_count": 61,
   "metadata": {},
   "outputs": [],
   "source": [
    "f = open('./newfile.txt','w')\n",
    "for i in range(1,10+1):\n",
    "    f.write(\"Hello, \\t{}th line!\\n\".format(i))\n",
    "f.close()"
   ]
  },
  {
   "cell_type": "code",
   "execution_count": 64,
   "metadata": {
    "scrolled": true
   },
   "outputs": [
    {
     "ename": "ValueError",
     "evalue": "I/O operation on closed file.",
     "output_type": "error",
     "traceback": [
      "\u001b[0;31m---------------------------------------------------------------------------\u001b[0m",
      "\u001b[0;31mValueError\u001b[0m                                Traceback (most recent call last)",
      "\u001b[0;32m<ipython-input-64-6f55369c8170>\u001b[0m in \u001b[0;36m<module>\u001b[0;34m()\u001b[0m\n\u001b[0;32m----> 1\u001b[0;31m \u001b[0mf\u001b[0m\u001b[0;34m.\u001b[0m\u001b[0mwrite\u001b[0m\u001b[0;34m(\u001b[0m\u001b[0;34m'a'\u001b[0m\u001b[0;34m)\u001b[0m\u001b[0;34m\u001b[0m\u001b[0m\n\u001b[0m",
      "\u001b[0;31mValueError\u001b[0m: I/O operation on closed file."
     ]
    }
   ],
   "source": [
    "f.write('a')"
   ]
  },
  {
   "cell_type": "code",
   "execution_count": 67,
   "metadata": {},
   "outputs": [],
   "source": [
    "f = open('./newfile.txt','a')\n",
    "\n",
    "for i in range(11,20+1):\n",
    "    f.write(\"Hello, Another \\t{}th line!\\n\".format(i))\n",
    "\n",
    "f.close()"
   ]
  },
  {
   "cell_type": "code",
   "execution_count": 69,
   "metadata": {},
   "outputs": [
    {
     "name": "stdout",
     "output_type": "stream",
     "text": [
      "Hello, \t1th line!\n",
      "\n"
     ]
    }
   ],
   "source": [
    "f = open('./newfile.txt','r')\n",
    "\n",
    "text = f.readline()\n",
    "print(text)\n",
    "\n",
    "f.close()"
   ]
  },
  {
   "cell_type": "code",
   "execution_count": 76,
   "metadata": {},
   "outputs": [
    {
     "name": "stdout",
     "output_type": "stream",
     "text": [
      "Hello,1thline!\n",
      "Hello,2thline!\n",
      "Hello,3thline!\n",
      "Hello,4thline!\n",
      "Hello,5thline!\n",
      "Hello,6thline!\n",
      "Hello,7thline!\n",
      "Hello,8thline!\n",
      "Hello,9thline!\n",
      "Hello,10thline!\n",
      "Hello,Another11thline!Hello,Another12thline!Hello,Another13thline!Hello,Another14thline!Hello,Another15thline!Hello,Another16thline!Hello,Another17thline!Hello,Another18thline!Hello,Another19thline!Hello,Another20thline!Hello,Another11thline!\n",
      "Hello,Another12thline!\n",
      "Hello,Another13thline!\n",
      "Hello,Another14thline!\n",
      "Hello,Another15thline!\n",
      "Hello,Another16thline!\n",
      "Hello,Another17thline!\n",
      "Hello,Another18thline!\n",
      "Hello,Another19thline!\n",
      "Hello,Another20thline!\n"
     ]
    }
   ],
   "source": [
    "with open('./newfile.txt','r') as f:\n",
    "    text = f.readlines()\n",
    "    for line in text:\n",
    "        print(line.replace('\\n','').replace('\\t','').replace(' ',''))\n",
    "    "
   ]
  },
  {
   "cell_type": "code",
   "execution_count": 78,
   "metadata": {},
   "outputs": [],
   "source": [
    "with open('./newfile.txt','r') as f:\n",
    "    line_list = f.readlines()\n",
    "    line_list[10] = \"Replaced\"\n",
    "    \n",
    "with open('./newfile.txt','w') as f:\n",
    "    for line in line_list:\n",
    "        f.write(line)"
   ]
  },
  {
   "cell_type": "code",
   "execution_count": 92,
   "metadata": {},
   "outputs": [],
   "source": [
    "# Error handle\n",
    "def number_parser():\n",
    "    try:\n",
    "        your_number = int(input(\"Type the number 1 to 100:\"))\n",
    "    except ValueError as e:\n",
    "        print(\"I SAID NUMBER!!!!!!!!!!!!!!!!!!!!!\")\n",
    "        number_parser()\n",
    "    except SyntaxError:\n",
    "        print(\"I Think My lord had mistake...\")\n",
    "    finally:\n",
    "        print(\"나는 모르겠습니다. 성공했는지 실패했는지\")\n",
    "        print(\"여튼 나는 실행되었습니다.\")\n",
    "    else:\n",
    "        print(\"worked\")"
   ]
  },
  {
   "cell_type": "code",
   "execution_count": 93,
   "metadata": {},
   "outputs": [
    {
     "name": "stdout",
     "output_type": "stream",
     "text": [
      "Type the number 1 to 100:안녕\n",
      "I SAID NUMBER!!!!!!!!!!!!!!!!!!!!!\n",
      "Type the number 1 to 100:1\n",
      "나는 모르겠습니다. 성공했는지 실패했는지\n",
      "여튼 나는 실행되었습니다.\n",
      "나는 모르겠습니다. 성공했는지 실패했는지\n",
      "여튼 나는 실행되었습니다.\n"
     ]
    }
   ],
   "source": [
    "number_parser()"
   ]
  },
  {
   "cell_type": "code",
   "execution_count": 88,
   "metadata": {},
   "outputs": [
    {
     "ename": "SyntaxError",
     "evalue": "invalid syntax (<ipython-input-88-c7ea285d3db5>, line 1)",
     "output_type": "error",
     "traceback": [
      "\u001b[0;36m  File \u001b[0;32m\"<ipython-input-88-c7ea285d3db5>\"\u001b[0;36m, line \u001b[0;32m1\u001b[0m\n\u001b[0;31m    1 2 +\u001b[0m\n\u001b[0m      ^\u001b[0m\n\u001b[0;31mSyntaxError\u001b[0m\u001b[0;31m:\u001b[0m invalid syntax\n"
     ]
    }
   ],
   "source": [
    "1 2 +"
   ]
  }
 ],
 "metadata": {
  "kernelspec": {
   "display_name": "Python 3",
   "language": "python",
   "name": "python3"
  },
  "language_info": {
   "codemirror_mode": {
    "name": "ipython",
    "version": 3
   },
   "file_extension": ".py",
   "mimetype": "text/x-python",
   "name": "python",
   "nbconvert_exporter": "python",
   "pygments_lexer": "ipython3",
   "version": "3.7.0"
  }
 },
 "nbformat": 4,
 "nbformat_minor": 2
}
