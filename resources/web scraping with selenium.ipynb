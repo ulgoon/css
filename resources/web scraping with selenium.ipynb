{
 "cells": [
  {
   "cell_type": "code",
   "execution_count": 16,
   "metadata": {},
   "outputs": [],
   "source": [
    "user_id = 'your_id'\n",
    "user_pw = 'your_password'"
   ]
  },
  {
   "cell_type": "code",
   "execution_count": 17,
   "metadata": {},
   "outputs": [],
   "source": [
    "import selenium\n",
    "from selenium import webdriver"
   ]
  },
  {
   "cell_type": "code",
   "execution_count": 18,
   "metadata": {},
   "outputs": [],
   "source": [
    "ch_driver = webdriver.Chrome('/Users/ulgoon/Documents/dev/chromedriver')"
   ]
  },
  {
   "cell_type": "code",
   "execution_count": 28,
   "metadata": {},
   "outputs": [],
   "source": [
    "# ch_driver.get('https://www.google.com')\n",
    "ch_driver.get('https://nid.naver.com/nidlogin.login')"
   ]
  },
  {
   "cell_type": "code",
   "execution_count": 29,
   "metadata": {},
   "outputs": [],
   "source": [
    "id_input = ch_driver.find_element_by_id('id')"
   ]
  },
  {
   "cell_type": "code",
   "execution_count": 30,
   "metadata": {},
   "outputs": [],
   "source": [
    "id_input.send_keys(user_id)"
   ]
  },
  {
   "cell_type": "code",
   "execution_count": 33,
   "metadata": {},
   "outputs": [],
   "source": [
    "pw_input = ch_driver.find_element_by_id('pw')\n",
    "pw_input.send_keys(user_pw)"
   ]
  },
  {
   "cell_type": "code",
   "execution_count": 32,
   "metadata": {},
   "outputs": [],
   "source": [
    "submit_button = ch_driver.find_elements_by_class_name('btn_global')[0]\n",
    "submit_button.click()"
   ]
  },
  {
   "cell_type": "code",
   "execution_count": 35,
   "metadata": {},
   "outputs": [],
   "source": [
    "ch_driver.find_element_by_id('chptcha').send_keys('2PXS98R')\n",
    "submit_button = ch_driver.find_elements_by_class_name('btn_global')[0]\n",
    "submit_button.click()"
   ]
  },
  {
   "cell_type": "code",
   "execution_count": 38,
   "metadata": {},
   "outputs": [],
   "source": [
    "ch_driver.get('https://cafe.naver.com/joonggonara')"
   ]
  },
  {
   "cell_type": "code",
   "execution_count": 39,
   "metadata": {},
   "outputs": [],
   "source": [
    "search_term = \"아이패드\"\n",
    "ch_driver.find_element_by_id(\"topLayerQueryInput\").send_keys(search_term)\n",
    "\n",
    "ch_driver.execute_script(\"searchBoard();\")"
   ]
  },
  {
   "cell_type": "code",
   "execution_count": 41,
   "metadata": {},
   "outputs": [],
   "source": [
    "result_frame = ch_driver.find_element_by_id(\"cafe_main\")\n",
    "ch_driver.switch_to_frame(result_frame)"
   ]
  },
  {
   "cell_type": "code",
   "execution_count": 42,
   "metadata": {},
   "outputs": [],
   "source": [
    "result_path = '//*[@id=\"main-area\"]/div[7]/form/table/tbody/tr/td[2]/span/span/a'"
   ]
  },
  {
   "cell_type": "code",
   "execution_count": 45,
   "metadata": {},
   "outputs": [
    {
     "data": {
      "text/plain": [
       "[{'title': '아이패드 프로 12.9 셀룰러 2세대 512기가 골드',\n",
       "  'link': 'https://cafe.naver.com/ArticleRead.nhn?clubid=10050146&page=1&inCafeSearch=true&searchBy=0&query=%BE%C6%C0%CC%C6%D0%B5%E5&includeAll=&exclude=&include=&exact=&searchdate=all&media=0&sortBy=date&articleid=504235255&referrerAllArticles=true'},\n",
       " {'title': '아이패드 프로 10.5 스그 50만원!',\n",
       "  'link': 'https://cafe.naver.com/ArticleRead.nhn?clubid=10050146&page=1&inCafeSearch=true&searchBy=0&query=%BE%C6%C0%CC%C6%D0%B5%E5&includeAll=&exclude=&include=&exact=&searchdate=all&media=0&sortBy=date&articleid=504235010&referrerAllArticles=true'},\n",
       " {'title': 'wii 2인 풀셋 25만원 외장하드 게임 가득 전원만 연결하시면 됩니다',\n",
       "  'link': 'https://cafe.naver.com/ArticleRead.nhn?clubid=10050146&page=1&inCafeSearch=true&searchBy=0&query=%BE%C6%C0%CC%C6%D0%B5%E5&includeAll=&exclude=&include=&exact=&searchdate=all&media=0&sortBy=date&articleid=504234621&referrerAllArticles=true'},\n",
       " {'title': '아이패드 프로 9.7 128g wifi + 스마트 키보드 + 애플정품 뒷면 케이스 팝니다.',\n",
       "  'link': 'https://cafe.naver.com/ArticleRead.nhn?clubid=10050146&page=1&inCafeSearch=true&searchBy=0&query=%BE%C6%C0%CC%C6%D0%B5%E5&includeAll=&exclude=&include=&exact=&searchdate=all&media=0&sortBy=date&articleid=504234517&referrerAllArticles=true'},\n",
       " {'title': '◑◑◑◑◑◑◑아이폰 , 삼성폰 , 엘지폰 , 아이패드 , 갤럭시 탭 다 삽니다 ◑◑◑◑◑◑◑◑ 다 매입합니다 서울 경기 인천 수원 전역 연락 주세요',\n",
       "  'link': 'https://cafe.naver.com/ArticleRead.nhn?clubid=10050146&page=1&inCafeSearch=true&searchBy=0&query=%BE%C6%C0%CC%C6%D0%B5%E5&includeAll=&exclude=&include=&exact=&searchdate=all&media=0&sortBy=date&articleid=504233699&referrerAllArticles=true'},\n",
       " {'title': '아이패드2(A1395) 작동확인불가 파손품 부품용 판매 - 2대 일괄 3만원',\n",
       "  'link': 'https://cafe.naver.com/ArticleRead.nhn?clubid=10050146&page=1&inCafeSearch=true&searchBy=0&query=%BE%C6%C0%CC%C6%D0%B5%E5&includeAll=&exclude=&include=&exact=&searchdate=all&media=0&sortBy=date&articleid=504233669&referrerAllArticles=true'},\n",
       " {'title': '애플맥북프로,HP울트라북,MS서피스프로판매및교환합니다/맥북,노트북,울트라북,태블릿PC구매합니다',\n",
       "  'link': 'https://cafe.naver.com/ArticleRead.nhn?clubid=10050146&page=1&inCafeSearch=true&searchBy=0&query=%BE%C6%C0%CC%C6%D0%B5%E5&includeAll=&exclude=&include=&exact=&searchdate=all&media=0&sortBy=date&articleid=504233475&referrerAllArticles=true'},\n",
       " {'title': '아이패드 프로 12.9 1세대 셀룰러 128g 골드 미개봉 판매합니다',\n",
       "  'link': 'https://cafe.naver.com/ArticleRead.nhn?clubid=10050146&page=1&inCafeSearch=true&searchBy=0&query=%BE%C6%C0%CC%C6%D0%B5%E5&includeAll=&exclude=&include=&exact=&searchdate=all&media=0&sortBy=date&articleid=504233271&referrerAllArticles=true'},\n",
       " {'title': '●●●●나는 아이폰 삼성폰 잇는대가서 산다●●●● 다서울 경기 수원 아이폰 안드로이드 다 삽니다. 언제든 연락주세요',\n",
       "  'link': 'https://cafe.naver.com/ArticleRead.nhn?clubid=10050146&page=1&inCafeSearch=true&searchBy=0&query=%BE%C6%C0%CC%C6%D0%B5%E5&includeAll=&exclude=&include=&exact=&searchdate=all&media=0&sortBy=date&articleid=504232753&referrerAllArticles=true'},\n",
       " {'title': '◑◑◑◑◑◑◑아이폰 , 삼성폰 , 엘지폰 , 아이패드 , 갤럭시 탭 다 삽니다 ◑◑◑◑◑◑◑◑ 다 매입합니다',\n",
       "  'link': 'https://cafe.naver.com/ArticleRead.nhn?clubid=10050146&page=1&inCafeSearch=true&searchBy=0&query=%BE%C6%C0%CC%C6%D0%B5%E5&includeAll=&exclude=&include=&exact=&searchdate=all&media=0&sortBy=date&articleid=504232479&referrerAllArticles=true'},\n",
       " {'title': '▶▷▶▷▶▷각종 아이폰 삼성폰 전문적으로 매입 삽니다◀◁◀◁◀◁◀ 서울 경기 수원 인천 아이폰6 6플러스 6 플러스 다 삽니다. 게신곳에서 매입합니다',\n",
       "  'link': 'https://cafe.naver.com/ArticleRead.nhn?clubid=10050146&page=1&inCafeSearch=true&searchBy=0&query=%BE%C6%C0%CC%C6%D0%B5%E5&includeAll=&exclude=&include=&exact=&searchdate=all&media=0&sortBy=date&articleid=504232157&referrerAllArticles=true'},\n",
       " {'title': '♠●★♣ ♠●★♣아이폰 삼성 엘지 다 삽니다♠●★♣♠●★♣ 각종 중고폰 어디서든 매입합니다',\n",
       "  'link': 'https://cafe.naver.com/ArticleRead.nhn?clubid=10050146&page=1&inCafeSearch=true&searchBy=0&query=%BE%C6%C0%CC%C6%D0%B5%E5&includeAll=&exclude=&include=&exact=&searchdate=all&media=0&sortBy=date&articleid=504231862&referrerAllArticles=true'},\n",
       " {'title': '아이패드 프로 10.5 64G 셀룰러 팝니다',\n",
       "  'link': 'https://cafe.naver.com/ArticleRead.nhn?clubid=10050146&page=1&inCafeSearch=true&searchBy=0&query=%BE%C6%C0%CC%C6%D0%B5%E5&includeAll=&exclude=&include=&exact=&searchdate=all&media=0&sortBy=date&articleid=504231828&referrerAllArticles=true'},\n",
       " {'title': '[미개봉] 미개통 아이패드 프로 10.5 256g 셀룰러 실버 팝니다',\n",
       "  'link': 'https://cafe.naver.com/ArticleRead.nhn?clubid=10050146&page=1&inCafeSearch=true&searchBy=0&query=%BE%C6%C0%CC%C6%D0%B5%E5&includeAll=&exclude=&include=&exact=&searchdate=all&media=0&sortBy=date&articleid=504231740&referrerAllArticles=true'},\n",
       " {'title': '관악 신림동 중고폰매입 !! 기기변경후 안쓰는 정상해지된폰 삽니다.',\n",
       "  'link': 'https://cafe.naver.com/ArticleRead.nhn?clubid=10050146&page=1&inCafeSearch=true&searchBy=0&query=%BE%C6%C0%CC%C6%D0%B5%E5&includeAll=&exclude=&include=&exact=&searchdate=all&media=0&sortBy=date&articleid=504231372&referrerAllArticles=true'}]"
      ]
     },
     "execution_count": 45,
     "metadata": {},
     "output_type": "execute_result"
    }
   ],
   "source": [
    "results = ch_driver.find_elements_by_xpath(result_path)\n",
    "result_list = []\n",
    "for item in results:\n",
    "    title = item.text\n",
    "    link = item.get_attribute('href')\n",
    "    result_dict = {}\n",
    "    result_dict['title'] = title\n",
    "    result_dict['link'] = link\n",
    "    result_list.append(result_dict)\n",
    "    \n",
    "result_list"
   ]
  },
  {
   "cell_type": "code",
   "execution_count": 46,
   "metadata": {},
   "outputs": [],
   "source": [
    "ch_driver.get('https://mail.naver.com')"
   ]
  },
  {
   "cell_type": "code",
   "execution_count": null,
   "metadata": {},
   "outputs": [],
   "source": [
    "link_path = '//*[@id=\"list_for_view\"]/ol/li'\n",
    "mail_items = ch_driver.find_elements_by_xpath(link_path)\n",
    "for item in mail_items:\n",
    "    title = item.text\n",
    "    link = item.find_element_by_tag_name('a').get_attribute('href')\n",
    "    print(title, link) "
   ]
  }
 ],
 "metadata": {
  "kernelspec": {
   "display_name": "Python 3",
   "language": "python",
   "name": "python3"
  },
  "language_info": {
   "codemirror_mode": {
    "name": "ipython",
    "version": 3
   },
   "file_extension": ".py",
   "mimetype": "text/x-python",
   "name": "python",
   "nbconvert_exporter": "python",
   "pygments_lexer": "ipython3",
   "version": "3.7.0"
  }
 },
 "nbformat": 4,
 "nbformat_minor": 2
}
