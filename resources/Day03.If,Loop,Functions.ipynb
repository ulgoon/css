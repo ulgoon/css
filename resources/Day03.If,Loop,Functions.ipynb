{
 "cells": [
  {
   "cell_type": "code",
   "execution_count": 26,
   "metadata": {},
   "outputs": [],
   "source": [
    "# 조건문(Conditional Statements)\n",
    "cash = 120000\n",
    "card = 1000000"
   ]
  },
  {
   "cell_type": "code",
   "execution_count": 25,
   "metadata": {},
   "outputs": [
    {
     "name": "stdout",
     "output_type": "stream",
     "text": [
      "Go to restaurant\n"
     ]
    }
   ],
   "source": [
    "if cash > 100000: \n",
    "    print(\"Go to restaurant\")\n",
    "elif cash > 50000:\n",
    "    print(\"Go to Hell of Gimbab\")\n",
    "elif cash > 30000:\n",
    "    print(\"Go to DD\")\n",
    "elif cash > 10000:\n",
    "    print(\"Go to Udon\")\n",
    "else:\n",
    "    print(\"Go to CVS\")"
   ]
  },
  {
   "cell_type": "code",
   "execution_count": 45,
   "metadata": {},
   "outputs": [
    {
     "name": "stdout",
     "output_type": "stream",
     "text": [
      "57\n",
      "정수를 입력해 주세요.(1~100)12\n",
      "틀렸습니다.\n"
     ]
    }
   ],
   "source": [
    "# Numguess\n",
    "import random\n",
    "\n",
    "\n",
    "answer = random.randint(1,100)\n",
    "print(answer)\n",
    "\n",
    "# TODO: 사용자로부터 정수 하나를 입력받아 guess 라는 변수에 할당한 뒤,\n",
    "guess = int(input(\"정수를 입력해 주세요.(1~100)\"))\n",
    "# print(guess)\n",
    "# 사용자 입력값과 정답을 비교해서\n",
    "# 맞다면, \"맞았습니다.\"\n",
    "if guess == answer:\n",
    "    print(\"맞았습니다.\")\n",
    "# 틀렸다면, \"틀렸습니다.\"\n",
    "else:\n",
    "    print(\"틀렸습니다.\")\n",
    "\n",
    "# 보상, 힌트 ,맞추면 미로... , 여러개중 몇개.. , trial, .."
   ]
  },
  {
   "cell_type": "code",
   "execution_count": 53,
   "metadata": {},
   "outputs": [
    {
     "name": "stdout",
     "output_type": "stream",
     "text": [
      "1\n",
      "2\n",
      "3\n",
      "4\n",
      "5\n",
      "6\n",
      "7\n",
      "8\n",
      "9\n",
      "10\n"
     ]
    }
   ],
   "source": [
    "# Iteration, Loop\n",
    "# For\n",
    "\n",
    "for i in range(1,10+1):\n",
    "    print(i)"
   ]
  },
  {
   "cell_type": "code",
   "execution_count": 55,
   "metadata": {},
   "outputs": [
    {
     "name": "stdout",
     "output_type": "stream",
     "text": [
      "Oh, there is a dog.\n",
      "Oh, there is a cat.\n",
      "Oh, there is a giraffe.\n"
     ]
    }
   ],
   "source": [
    "for s in [\"dog\", \"cat\",\"giraffe\"]:\n",
    "    print(\"Oh, there is a {}.\".format(s))"
   ]
  },
  {
   "cell_type": "code",
   "execution_count": 60,
   "metadata": {},
   "outputs": [
    {
     "name": "stdout",
     "output_type": "stream",
     "text": [
      "5050\n"
     ]
    }
   ],
   "source": [
    "result = 0\n",
    "for i in range(1,100+1):\n",
    "    result += i\n",
    "    \n",
    "print(result)"
   ]
  },
  {
   "cell_type": "code",
   "execution_count": 64,
   "metadata": {},
   "outputs": [
    {
     "name": "stdout",
     "output_type": "stream",
     "text": [
      "hello\n",
      "hello\n",
      "hello\n",
      "hello\n",
      "hello\n",
      "hello\n",
      "hello\n",
      "hello\n",
      "hello\n",
      "hello\n"
     ]
    }
   ],
   "source": [
    "for _ in range(1,10+1):\n",
    "    print(\"hello\")"
   ]
  },
  {
   "cell_type": "code",
   "execution_count": null,
   "metadata": {},
   "outputs": [],
   "source": [
    "# 무한반복\n",
    "while True:\n",
    "    print(\"hello\")"
   ]
  },
  {
   "cell_type": "code",
   "execution_count": 70,
   "metadata": {},
   "outputs": [
    {
     "name": "stdout",
     "output_type": "stream",
     "text": [
      "1\n",
      "2\n",
      "3\n",
      "4\n",
      "5\n",
      "6\n",
      "7\n",
      "8\n",
      "9\n",
      "10\n",
      "10\n"
     ]
    }
   ],
   "source": [
    "a = 0\n",
    "while a<10:\n",
    "    a+=1\n",
    "    print(a)\n",
    "print(a)"
   ]
  },
  {
   "cell_type": "code",
   "execution_count": 71,
   "metadata": {},
   "outputs": [
    {
     "name": "stdout",
     "output_type": "stream",
     "text": [
      "2\n",
      "4\n",
      "8\n",
      "16\n",
      "32\n",
      "64\n",
      "128\n",
      "256\n",
      "512\n",
      "1024\n",
      "2048\n",
      "4096\n",
      "8192\n",
      "16384\n",
      "32768\n",
      "65536\n",
      "131072\n"
     ]
    }
   ],
   "source": [
    "b = 1\n",
    "while True:\n",
    "    b *= 2\n",
    "    print(b)\n",
    "    if b > 100000:\n",
    "        break"
   ]
  },
  {
   "cell_type": "code",
   "execution_count": 72,
   "metadata": {},
   "outputs": [],
   "source": [
    "while True:\n",
    "    break"
   ]
  },
  {
   "cell_type": "code",
   "execution_count": 75,
   "metadata": {},
   "outputs": [
    {
     "name": "stdout",
     "output_type": "stream",
     "text": [
      "1\n",
      "3\n",
      "5\n",
      "7\n",
      "9\n",
      "11\n",
      "13\n",
      "15\n",
      "17\n",
      "19\n",
      "21\n",
      "23\n",
      "25\n",
      "27\n",
      "29\n",
      "31\n",
      "33\n",
      "35\n",
      "37\n",
      "39\n",
      "41\n",
      "43\n",
      "45\n",
      "47\n",
      "49\n"
     ]
    }
   ],
   "source": [
    "for i in range(1,100+1):\n",
    "    if i == 50:\n",
    "        break\n",
    "    elif i%2==0:\n",
    "        continue\n",
    "    print(i)"
   ]
  },
  {
   "cell_type": "code",
   "execution_count": 81,
   "metadata": {},
   "outputs": [
    {
     "name": "stdout",
     "output_type": "stream",
     "text": [
      "김패캠\n"
     ]
    }
   ],
   "source": [
    "a=input()"
   ]
  },
  {
   "cell_type": "code",
   "execution_count": 82,
   "metadata": {},
   "outputs": [
    {
     "name": "stdout",
     "output_type": "stream",
     "text": [
      "김자패자캠자\n"
     ]
    }
   ],
   "source": [
    "result = \"\"\n",
    "for s in \"김패캠\":\n",
    "    result = result + s + \"자\"\n",
    "    \n",
    "print(result)"
   ]
  },
  {
   "cell_type": "code",
   "execution_count": 84,
   "metadata": {},
   "outputs": [
    {
     "name": "stdout",
     "output_type": "stream",
     "text": [
      "1 2 3\n",
      "[1, 2, 3]\n"
     ]
    }
   ],
   "source": [
    "a = input().split()\n",
    "result = []\n",
    "for s in a:\n",
    "    result.append(int(s))\n",
    "    \n",
    "print(result)"
   ]
  },
  {
   "cell_type": "code",
   "execution_count": 85,
   "metadata": {},
   "outputs": [
    {
     "name": "stdout",
     "output_type": "stream",
     "text": [
      "What is your name?김패캠\n",
      "Oh, your name is 김패캠\n",
      "What is your name?Spam egg\n",
      "Oh, your name is Spam egg\n",
      "What is your name?John Doe\n",
      "Oh, your name is John Doe\n",
      "What is your name?Immortal\n",
      "Oh, your name is Immortal\n",
      "What is your name?foo bar\n",
      "Oh, your name is foo bar\n"
     ]
    }
   ],
   "source": [
    "name = \"\"\n",
    "while name != \"foo bar\":\n",
    "    name = input(\"What is your name?\")\n",
    "    print(\"Oh, your name is {}\".format(name))"
   ]
  },
  {
   "cell_type": "code",
   "execution_count": 86,
   "metadata": {},
   "outputs": [
    {
     "name": "stdout",
     "output_type": "stream",
     "text": [
      "1\n",
      "2\n",
      "fizz\n",
      "4\n",
      "buzz\n",
      "..\n"
     ]
    }
   ],
   "source": [
    "print(1)\n",
    "print(2)\n",
    "print(\"fizz\")\n",
    "print(4)\n",
    "print(\"buzz\")\n",
    "print(\"..\")"
   ]
  },
  {
   "cell_type": "code",
   "execution_count": 87,
   "metadata": {},
   "outputs": [
    {
     "name": "stdout",
     "output_type": "stream",
     "text": [
      "It's Totally True!!!\n"
     ]
    }
   ],
   "source": [
    "if True and True:\n",
    "    print(\"It's Totally True!!!\")"
   ]
  },
  {
   "cell_type": "code",
   "execution_count": 88,
   "metadata": {},
   "outputs": [
    {
     "name": "stdout",
     "output_type": "stream",
     "text": [
      "a is True first!!\n"
     ]
    }
   ],
   "source": [
    "a = True\n",
    "b = True\n",
    "if a == True:\n",
    "    print(\"a is True first!!\")\n",
    "elif b == True:\n",
    "    print(\"b is True later!!\")"
   ]
  },
  {
   "cell_type": "code",
   "execution_count": 96,
   "metadata": {},
   "outputs": [
    {
     "name": "stdout",
     "output_type": "stream",
     "text": [
      "1\n",
      "2\n",
      "Fizz\n",
      "4\n",
      "Buzz\n",
      "Fizz\n",
      "7\n",
      "8\n",
      "Fizz\n",
      "Buzz\n",
      "11\n",
      "Fizz\n",
      "13\n",
      "14\n",
      "FizzBuzz\n",
      "16\n",
      "17\n",
      "Fizz\n",
      "19\n",
      "Buzz\n",
      "Fizz\n",
      "22\n",
      "23\n",
      "Fizz\n",
      "Buzz\n",
      "26\n",
      "Fizz\n",
      "28\n",
      "29\n",
      "FizzBuzz\n",
      "31\n",
      "32\n",
      "Fizz\n",
      "34\n",
      "Buzz\n",
      "Fizz\n",
      "37\n",
      "38\n",
      "Fizz\n",
      "Buzz\n",
      "41\n",
      "Fizz\n",
      "43\n",
      "44\n",
      "FizzBuzz\n",
      "46\n",
      "47\n",
      "Fizz\n",
      "49\n",
      "Buzz\n",
      "Fizz\n",
      "52\n",
      "53\n",
      "Fizz\n",
      "Buzz\n",
      "56\n",
      "Fizz\n",
      "58\n",
      "59\n",
      "FizzBuzz\n",
      "61\n",
      "62\n",
      "Fizz\n",
      "64\n",
      "Buzz\n",
      "Fizz\n",
      "67\n",
      "68\n",
      "Fizz\n",
      "Buzz\n",
      "71\n",
      "Fizz\n",
      "73\n",
      "74\n",
      "FizzBuzz\n",
      "76\n",
      "77\n",
      "Fizz\n",
      "79\n",
      "Buzz\n",
      "Fizz\n",
      "82\n",
      "83\n",
      "Fizz\n",
      "Buzz\n",
      "86\n",
      "Fizz\n",
      "88\n",
      "89\n",
      "FizzBuzz\n",
      "91\n",
      "92\n",
      "Fizz\n",
      "94\n",
      "Buzz\n",
      "Fizz\n",
      "97\n",
      "98\n",
      "Fizz\n",
      "Buzz\n"
     ]
    }
   ],
   "source": [
    "# Fizzbuzz\n",
    "\n",
    "for i in range(1,100+1):\n",
    "    if i%15==0:\n",
    "        print(\"FizzBuzz\")\n",
    "    elif i%3==0:\n",
    "        print(\"Fizz\")\n",
    "    elif i%5==0:\n",
    "        print(\"Buzz\")\n",
    "    else:\n",
    "        print(i)"
   ]
  },
  {
   "cell_type": "code",
   "execution_count": 105,
   "metadata": {},
   "outputs": [
    {
     "name": "stdout",
     "output_type": "stream",
     "text": [
      "38\n",
      "정수를 입력해 주세요.(1~100)1\n",
      "up\n",
      "틀렸습니다. 4회 남았습니다\n",
      "정수를 입력해 주세요.(1~100)6\n",
      "up\n",
      "틀렸습니다. 3회 남았습니다\n",
      "정수를 입력해 주세요.(1~100)78\n",
      "down\n",
      "틀렸습니다. 2회 남았습니다\n",
      "정수를 입력해 주세요.(1~100)2\n",
      "up\n",
      "틀렸습니다. 1회 남았습니다\n",
      "정수를 입력해 주세요.(1~100)1\n",
      "up\n",
      "그것도 못맞추다니.. 정답은 38 이다.\n"
     ]
    }
   ],
   "source": [
    "import random\n",
    "\n",
    "\n",
    "answer = random.randint(1,100)\n",
    "print(answer)\n",
    "\n",
    "# trial 5회 추가\n",
    "for i in range(1, 5+1):\n",
    "    # TODO: 사용자로부터 정수 하나를 입력받아 guess 라는 변수에 할당한 뒤,\n",
    "    guess = int(input(\"정수를 입력해 주세요.(1~100)\"))\n",
    "    # 사용자 입력값과 정답을 비교해서 맞다면, \"맞았습니다.\"\n",
    "    if guess == answer:\n",
    "        print(\"맞았습니다. 당신의 스코어는 {}점입니다.\".format((5-i)*5))\n",
    "        break\n",
    "    # 틀렸다면, \"틀렸습니다.\"\n",
    "    else:\n",
    "        if guess > answer:\n",
    "            print(\"down!!!\")\n",
    "        else:\n",
    "            print(\"up!!!\")\n",
    "        if i ==5:\n",
    "            print(\"그것도 못맞추다니.. 정답은 {} 이다.\".format(answer))\n",
    "        else:\n",
    "            print(\"틀렸습니다. {}회 남았습니다\".format(5-i))\n",
    "\n",
    "# 보상, 힌트 ,맞추면 미로... , 여러개중 몇개.. , trial, .."
   ]
  },
  {
   "cell_type": "code",
   "execution_count": null,
   "metadata": {},
   "outputs": [],
   "source": [
    "a_list = input().split()\n",
    "\n",
    "input_to_int = []\n",
    "for s in a_list:\n",
    "    if int(s) > 10:\n",
    "        \n"
   ]
  },
  {
   "cell_type": "code",
   "execution_count": null,
   "metadata": {},
   "outputs": [],
   "source": [
    "print()\n",
    "print()"
   ]
  },
  {
   "cell_type": "code",
   "execution_count": 108,
   "metadata": {},
   "outputs": [
    {
     "name": "stdout",
     "output_type": "stream",
     "text": [
      "17\n",
      "1부터 100까지의 정수 중 하나를 입력하시오 : 1\n",
      "1\n",
      "틀렸습니다. 4회의 도전기회가 남았습니다.\n",
      "1부터 100까지의 정수 중 하나를 입력하시오 : 1\n",
      "6\n",
      "틀렸습니다. -1회의 도전기회가 남았습니다.\n"
     ]
    }
   ],
   "source": [
    "import random\n",
    "\n",
    "answer = random.randint(1,100)\n",
    "print(answer)\n",
    "\n",
    "for t in range(1, 5+1):\n",
    "    guess = int(input(\"1부터 100까지의 정수 중 하나를 입력하시오 : \"))\n",
    "    if guess == answer:\n",
    "        print(\"맞았습니다! 당신의 점수는 {}점입니다\".format((5-t)*25))\n",
    "        break\n",
    "    elif t != 5:\n",
    "        print(t)\n",
    "        print(\"틀렸습니다. {}회의 도전기회가 남았습니다.\".format(5-t))\n",
    "    else:\n",
    "        print(\"와! 한 번도 못 맞춤! 와!\")"
   ]
  },
  {
   "cell_type": "code",
   "execution_count": 109,
   "metadata": {},
   "outputs": [],
   "source": [
    "def summer(num):\n",
    "    result = num + 1\n",
    "    return result"
   ]
  },
  {
   "cell_type": "code",
   "execution_count": null,
   "metadata": {},
   "outputs": [],
   "source": [
    "def summer(num):\n",
    "    return num + 1"
   ]
  },
  {
   "cell_type": "code",
   "execution_count": 113,
   "metadata": {},
   "outputs": [
    {
     "name": "stdout",
     "output_type": "stream",
     "text": [
      "11\n"
     ]
    }
   ],
   "source": [
    "result = 1\n",
    "print(result)\n",
    "def summer(num):\n",
    "    global result\n",
    "    result = num + 1\n",
    "    return result\n",
    "summer(10)\n",
    "print(result)"
   ]
  },
  {
   "cell_type": "code",
   "execution_count": 114,
   "metadata": {},
   "outputs": [
    {
     "name": "stdout",
     "output_type": "stream",
     "text": [
      "1\n",
      "11\n"
     ]
    }
   ],
   "source": [
    "result=1\n",
    "print(result)\n",
    "def summer2(num):\n",
    "    result2 = num+2\n",
    "    result = num +1\n",
    "    return result\n",
    "result = summer2(10)\n",
    "print(result)"
   ]
  },
  {
   "cell_type": "code",
   "execution_count": 115,
   "metadata": {},
   "outputs": [
    {
     "data": {
      "text/plain": [
       "'hello'"
      ]
     },
     "execution_count": 115,
     "metadata": {},
     "output_type": "execute_result"
    }
   ],
   "source": [
    "# function without input\n",
    "def func_wo_input():\n",
    "    return \"hello\"\n",
    "func_wo_input()"
   ]
  },
  {
   "cell_type": "code",
   "execution_count": 116,
   "metadata": {},
   "outputs": [
    {
     "name": "stdout",
     "output_type": "stream",
     "text": [
      "11\n"
     ]
    }
   ],
   "source": [
    "# function without output\n",
    "def func_wo_output(num):\n",
    "    print(num+1)\n",
    "func_wo_output(10)"
   ]
  },
  {
   "cell_type": "code",
   "execution_count": 118,
   "metadata": {},
   "outputs": [
    {
     "name": "stdout",
     "output_type": "stream",
     "text": [
      "11\n"
     ]
    }
   ],
   "source": [
    "a = func_wo_output(10)"
   ]
  },
  {
   "cell_type": "code",
   "execution_count": 119,
   "metadata": {},
   "outputs": [],
   "source": [
    "a"
   ]
  },
  {
   "cell_type": "code",
   "execution_count": 134,
   "metadata": {},
   "outputs": [],
   "source": [
    "def multiple_return(cash):\n",
    "    if cash > 100000:\n",
    "        return \"restaurant\", cash-60000\n",
    "    elif cash > 50000:\n",
    "        return \"hell of gimbab\", cash-5500\n",
    "    else:\n",
    "        return \"CVS\", cash-2000"
   ]
  },
  {
   "cell_type": "code",
   "execution_count": 135,
   "metadata": {},
   "outputs": [
    {
     "name": "stdout",
     "output_type": "stream",
     "text": [
      "CVS 3000\n"
     ]
    }
   ],
   "source": [
    "place, cash = multiple_return(5000)\n",
    "print(place, cash)"
   ]
  },
  {
   "cell_type": "code",
   "execution_count": 136,
   "metadata": {},
   "outputs": [
    {
     "data": {
      "text/plain": [
       "str"
      ]
     },
     "execution_count": 136,
     "metadata": {},
     "output_type": "execute_result"
    }
   ],
   "source": [
    "type(place)"
   ]
  },
  {
   "cell_type": "code",
   "execution_count": 137,
   "metadata": {},
   "outputs": [
    {
     "data": {
      "text/plain": [
       "int"
      ]
     },
     "execution_count": 137,
     "metadata": {},
     "output_type": "execute_result"
    }
   ],
   "source": [
    "type(cash)"
   ]
  },
  {
   "cell_type": "code",
   "execution_count": 138,
   "metadata": {},
   "outputs": [],
   "source": [
    "def func_skin():\n",
    "    print(\"This is no use...\")"
   ]
  },
  {
   "cell_type": "code",
   "execution_count": 139,
   "metadata": {},
   "outputs": [
    {
     "name": "stdout",
     "output_type": "stream",
     "text": [
      "This is no use...\n"
     ]
    }
   ],
   "source": [
    "func_skin()"
   ]
  },
  {
   "cell_type": "code",
   "execution_count": 140,
   "metadata": {},
   "outputs": [],
   "source": [
    "def id_check(id_trial):\n",
    "    if id_trial == \"admin\":\n",
    "        print(\"You can not use this id: admin\")\n",
    "        return False\n",
    "    print(\"valid username: {}\".format(id_trial))\n",
    "    return True"
   ]
  },
  {
   "cell_type": "code",
   "execution_count": 141,
   "metadata": {},
   "outputs": [
    {
     "name": "stdout",
     "output_type": "stream",
     "text": [
      "You can not use this id: admin\n"
     ]
    },
    {
     "data": {
      "text/plain": [
       "False"
      ]
     },
     "execution_count": 141,
     "metadata": {},
     "output_type": "execute_result"
    }
   ],
   "source": [
    "id_check(\"admin\")"
   ]
  },
  {
   "cell_type": "code",
   "execution_count": 142,
   "metadata": {},
   "outputs": [
    {
     "name": "stdout",
     "output_type": "stream",
     "text": [
      "valid username: Wakanda\n"
     ]
    },
    {
     "data": {
      "text/plain": [
       "True"
      ]
     },
     "execution_count": 142,
     "metadata": {},
     "output_type": "execute_result"
    }
   ],
   "source": [
    "id_check(\"Wakanda\")"
   ]
  },
  {
   "cell_type": "code",
   "execution_count": 153,
   "metadata": {},
   "outputs": [],
   "source": [
    "def deungcha(num):\n",
    "    result=0\n",
    "    for i in range(1,num+1):\n",
    "        if i==50:\n",
    "            break\n",
    "            #return result\n",
    "        result += i\n",
    "    return result"
   ]
  },
  {
   "cell_type": "code",
   "execution_count": 154,
   "metadata": {},
   "outputs": [
    {
     "data": {
      "text/plain": [
       "1225"
      ]
     },
     "execution_count": 154,
     "metadata": {},
     "output_type": "execute_result"
    }
   ],
   "source": [
    "deungcha(100)"
   ]
  },
  {
   "cell_type": "code",
   "execution_count": 155,
   "metadata": {},
   "outputs": [
    {
     "data": {
      "text/plain": [
       "1225"
      ]
     },
     "execution_count": 155,
     "metadata": {},
     "output_type": "execute_result"
    }
   ],
   "source": [
    "deungcha(49)"
   ]
  },
  {
   "cell_type": "code",
   "execution_count": 156,
   "metadata": {},
   "outputs": [
    {
     "name": "stdout",
     "output_type": "stream",
     "text": [
      "1 2 3\n"
     ]
    }
   ],
   "source": [
    "print(1,2,3) # sep=' '"
   ]
  },
  {
   "cell_type": "code",
   "execution_count": 158,
   "metadata": {},
   "outputs": [
    {
     "name": "stdout",
     "output_type": "stream",
     "text": [
      "1안녕하세요2안녕하세요3\n"
     ]
    }
   ],
   "source": [
    "print(1,2,3, sep='안녕하세요') "
   ]
  },
  {
   "cell_type": "code",
   "execution_count": 159,
   "metadata": {},
   "outputs": [
    {
     "name": "stdout",
     "output_type": "stream",
     "text": [
      "1\n",
      "2\n",
      "3\n"
     ]
    }
   ],
   "source": [
    "print(1)# end='\\n'\n",
    "print(2)\n",
    "print(3)"
   ]
  },
  {
   "cell_type": "code",
   "execution_count": 162,
   "metadata": {},
   "outputs": [
    {
     "name": "stdout",
     "output_type": "stream",
     "text": [
      "1.\n",
      "2\n",
      "\n",
      "3\n",
      "\n"
     ]
    }
   ],
   "source": [
    "print(1, end='.\\n')# end='\\n'\n",
    "print(2, end='\\n\\n')\n",
    "print(3, end='\\n\\n')"
   ]
  },
  {
   "cell_type": "code",
   "execution_count": 163,
   "metadata": {},
   "outputs": [
    {
     "name": "stdout",
     "output_type": "stream",
     "text": [
      "안녕하세요.\n"
     ]
    }
   ],
   "source": [
    "print(\"안녕하세요\", end='.\\n')"
   ]
  },
  {
   "cell_type": "code",
   "execution_count": 166,
   "metadata": {},
   "outputs": [],
   "source": [
    "def say_hello(name=\"Fool\", nick=True):\n",
    "    print(\"Hi, {}\".format(name))\n",
    "    if nick == True:\n",
    "        print(\"But, you are fool.\")\n",
    "    else:\n",
    "        print(\"Oh, you are not fool.\")"
   ]
  },
  {
   "cell_type": "code",
   "execution_count": 172,
   "metadata": {},
   "outputs": [
    {
     "ename": "TypeError",
     "evalue": "say_hello() takes from 0 to 2 positional arguments but 3 were given",
     "output_type": "error",
     "traceback": [
      "\u001b[0;31m---------------------------------------------------------------------------\u001b[0m",
      "\u001b[0;31mTypeError\u001b[0m                                 Traceback (most recent call last)",
      "\u001b[0;32m<ipython-input-172-8aab9555a70e>\u001b[0m in \u001b[0;36m<module>\u001b[0;34m()\u001b[0m\n\u001b[0;32m----> 1\u001b[0;31m \u001b[0msay_hello\u001b[0m\u001b[0;34m(\u001b[0m\u001b[0;34m\"김패캠\"\u001b[0m\u001b[0;34m,\u001b[0m \u001b[0;32mFalse\u001b[0m\u001b[0;34m,\u001b[0m \u001b[0;34m\"babo\"\u001b[0m\u001b[0;34m)\u001b[0m\u001b[0;34m\u001b[0m\u001b[0m\n\u001b[0m",
      "\u001b[0;31mTypeError\u001b[0m: say_hello() takes from 0 to 2 positional arguments but 3 were given"
     ]
    }
   ],
   "source": [
    "say_hello(\"김패캠\", False, \"babo\")"
   ]
  },
  {
   "cell_type": "code",
   "execution_count": 171,
   "metadata": {},
   "outputs": [
    {
     "name": "stdout",
     "output_type": "stream",
     "text": [
      "1 2\n"
     ]
    }
   ],
   "source": [
    "print(1,2)"
   ]
  },
  {
   "cell_type": "code",
   "execution_count": 173,
   "metadata": {},
   "outputs": [],
   "source": [
    "def mul_sum(*args):\n",
    "    print(args)"
   ]
  },
  {
   "cell_type": "code",
   "execution_count": 174,
   "metadata": {},
   "outputs": [
    {
     "name": "stdout",
     "output_type": "stream",
     "text": [
      "(1, 2, 3)\n"
     ]
    }
   ],
   "source": [
    "mul_sum(1,2,3)"
   ]
  },
  {
   "cell_type": "code",
   "execution_count": 175,
   "metadata": {},
   "outputs": [],
   "source": [
    "def mul_sum(*args):\n",
    "    result = 0\n",
    "    for i in args:\n",
    "        result += i\n",
    "    return result"
   ]
  },
  {
   "cell_type": "code",
   "execution_count": 176,
   "metadata": {},
   "outputs": [
    {
     "data": {
      "text/plain": [
       "45"
      ]
     },
     "execution_count": 176,
     "metadata": {},
     "output_type": "execute_result"
    }
   ],
   "source": [
    "mul_sum(1,2,3,4,5,6,7,8,9)"
   ]
  },
  {
   "cell_type": "code",
   "execution_count": 179,
   "metadata": {},
   "outputs": [],
   "source": [
    "def show_args(**cat):\n",
    "    print(cat.items())"
   ]
  },
  {
   "cell_type": "code",
   "execution_count": 180,
   "metadata": {},
   "outputs": [
    {
     "name": "stdout",
     "output_type": "stream",
     "text": [
      "dict_items([('uid', '1234'), ('upw', '1q2w3e4r'), ('gender', 'male')])\n"
     ]
    }
   ],
   "source": [
    "show_args(uid=\"1234\",upw=\"1q2w3e4r\",gender=\"male\")"
   ]
  },
  {
   "cell_type": "code",
   "execution_count": 181,
   "metadata": {},
   "outputs": [],
   "source": [
    "def show_args(**cat):\n",
    "    for k,v in cat.items():\n",
    "        print(k)\n",
    "        print(v)\n",
    "    return True"
   ]
  },
  {
   "cell_type": "code",
   "execution_count": 182,
   "metadata": {},
   "outputs": [
    {
     "name": "stdout",
     "output_type": "stream",
     "text": [
      "uid\n",
      "1234\n",
      "upw\n",
      "1q2w3e4r\n",
      "gender\n",
      "male\n"
     ]
    },
    {
     "data": {
      "text/plain": [
       "True"
      ]
     },
     "execution_count": 182,
     "metadata": {},
     "output_type": "execute_result"
    }
   ],
   "source": [
    "show_args(uid=\"1234\",upw=\"1q2w3e4r\",gender=\"male\")"
   ]
  },
  {
   "cell_type": "code",
   "execution_count": 183,
   "metadata": {},
   "outputs": [],
   "source": [
    "# 숙제 1 : Monty Hall Problem 수학적으로 이해하기\n",
    "# 숙제 2 : 윤년 판독기 함수 만들기\n",
    "\n",
    "def is_leap(year):\n",
    "    return \"Whatever\""
   ]
  },
  {
   "cell_type": "code",
   "execution_count": 184,
   "metadata": {
    "scrolled": true
   },
   "outputs": [
    {
     "data": {
      "text/plain": [
       "'Whatever'"
      ]
     },
     "execution_count": 184,
     "metadata": {},
     "output_type": "execute_result"
    }
   ],
   "source": [
    "is_leap(12)"
   ]
  },
  {
   "cell_type": "code",
   "execution_count": null,
   "metadata": {},
   "outputs": [],
   "source": []
  }
 ],
 "metadata": {
  "kernelspec": {
   "display_name": "Python 3",
   "language": "python",
   "name": "python3"
  },
  "language_info": {
   "codemirror_mode": {
    "name": "ipython",
    "version": 3
   },
   "file_extension": ".py",
   "mimetype": "text/x-python",
   "name": "python",
   "nbconvert_exporter": "python",
   "pygments_lexer": "ipython3",
   "version": "3.7.0"
  }
 },
 "nbformat": 4,
 "nbformat_minor": 2
}
